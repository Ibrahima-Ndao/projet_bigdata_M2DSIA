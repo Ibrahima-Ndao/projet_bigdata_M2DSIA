{
 "cells": [
  {
   "cell_type": "code",
   "execution_count": 1,
   "id": "15550fd4-5233-4626-96cd-9046e7660da8",
   "metadata": {},
   "outputs": [],
   "source": [
    "import psycopg2 # type: ignore\n",
    "import pandas as pd # type: ignore"
   ]
  },
  {
   "cell_type": "code",
   "execution_count": 2,
   "id": "5306d09e-af21-49c7-a624-4eaf32ec8345",
   "metadata": {},
   "outputs": [],
   "source": [
    "db_params = {\n",
    "    'dbname': 'dataplatform',\n",
    "    'user': 'postgres',\n",
    "    'password': 'postgrespassword',\n",
    "    'host': 'localhost',\n",
    "    'port': 5434\n",
    "}\n",
    "table_name = \"motor_vehicle_crashes\""
   ]
  },
  {
   "cell_type": "code",
   "execution_count": 3,
   "id": "5050577f-19e6-493a-97b1-58c0eb662265",
   "metadata": {},
   "outputs": [],
   "source": [
    "def get_conn():\n",
    "    try:\n",
    "        print(\"Connecting to the database...\")\n",
    "        conn = psycopg2.connect(**db_params, options=\"-c client_encoding=UTF8\")\n",
    "        print(\"Connection successful!\")\n",
    "        return conn\n",
    "    except UnicodeDecodeError as e:\n",
    "        print(f\"UnicodeDecodeError: {e}\")\n",
    "        print(\"Please check db_params for invalid characters or database encoding.\")\n",
    "    except Exception as e:\n",
    "        print(f\"Unexpected error: {e}\")"
   ]
  },
  {
   "cell_type": "code",
   "execution_count": 4,
   "id": "be5a9bb5-6a2f-4ffe-986f-e38fdc8180b0",
   "metadata": {},
   "outputs": [
    {
     "name": "stdout",
     "output_type": "stream",
     "text": [
      "Connecting to the database...\n",
      "Connection successful!\n"
     ]
    }
   ],
   "source": [
    "conn = get_conn()"
   ]
  },
  {
   "cell_type": "code",
   "execution_count": 5,
   "id": "c42bec7b-41dc-4399-808e-e831ad772107",
   "metadata": {},
   "outputs": [],
   "source": [
    "query = f\"SELECT * FROM {table_name}\""
   ]
  },
  {
   "cell_type": "markdown",
   "id": "0b400947-5274-46c9-a80e-370bcd6c2bf4",
   "metadata": {},
   "source": [
    "#### Collecter la données depuis la source"
   ]
  },
  {
   "cell_type": "code",
   "execution_count": 6,
   "id": "00d1951f-545e-42df-84ff-1d79a290160b",
   "metadata": {},
   "outputs": [
    {
     "name": "stderr",
     "output_type": "stream",
     "text": [
      "C:\\Windows\\Temp\\ipykernel_14376\\1168034203.py:1: UserWarning: pandas only supports SQLAlchemy connectable (engine/connection) or database string URI or sqlite3 DBAPI2 connection. Other DBAPI2 objects are not tested. Please consider using SQLAlchemy.\n",
      "  df = pd.read_sql(query, conn)\n"
     ]
    }
   ],
   "source": [
    "df = pd.read_sql(query, conn)"
   ]
  },
  {
   "cell_type": "code",
   "execution_count": null,
   "id": "a58ece74-c7c0-4c83-891e-088477ee8687",
   "metadata": {},
   "outputs": [
    {
     "data": {
      "text/html": [
       "<div>\n",
       "<style scoped>\n",
       "    .dataframe tbody tr th:only-of-type {\n",
       "        vertical-align: middle;\n",
       "    }\n",
       "\n",
       "    .dataframe tbody tr th {\n",
       "        vertical-align: top;\n",
       "    }\n",
       "\n",
       "    .dataframe thead th {\n",
       "        text-align: right;\n",
       "    }\n",
       "</style>\n",
       "<table border=\"1\" class=\"dataframe\">\n",
       "  <thead>\n",
       "    <tr style=\"text-align: right;\">\n",
       "      <th></th>\n",
       "      <th>year</th>\n",
       "      <th>casevehicleid</th>\n",
       "      <th>vehiclebodytype</th>\n",
       "      <th>registrationclass</th>\n",
       "      <th>actionpriortoaccident</th>\n",
       "      <th>truckbustypeaxles</th>\n",
       "      <th>directionoftravel</th>\n",
       "      <th>fueltype</th>\n",
       "      <th>vehicleyear</th>\n",
       "      <th>stateofregistration</th>\n",
       "      <th>numberofoccupants</th>\n",
       "      <th>enginecylinders</th>\n",
       "      <th>vehiclemake</th>\n",
       "      <th>contributingfactor1</th>\n",
       "      <th>contributingfactor1description</th>\n",
       "      <th>contributingfactor2</th>\n",
       "      <th>contributingfactor2description</th>\n",
       "      <th>eventtype</th>\n",
       "      <th>partialvin</th>\n",
       "    </tr>\n",
       "  </thead>\n",
       "  <tbody>\n",
       "    <tr>\n",
       "      <th>0</th>\n",
       "      <td>2019</td>\n",
       "      <td>16400905</td>\n",
       "      <td>SUBURBAN</td>\n",
       "      <td>Not Entered</td>\n",
       "      <td>Going Straight Ahead</td>\n",
       "      <td>Not Entered</td>\n",
       "      <td>North</td>\n",
       "      <td>Not Entered</td>\n",
       "      <td>2014.0</td>\n",
       "      <td>VA</td>\n",
       "      <td>3.0</td>\n",
       "      <td>NaN</td>\n",
       "      <td>GMC</td>\n",
       "      <td>HUMAN</td>\n",
       "      <td>Unsafe Speed</td>\n",
       "      <td>ENVMT</td>\n",
       "      <td>Pavement Slippery</td>\n",
       "      <td>None</td>\n",
       "      <td>1GKKVRKD5EJ23OO86</td>\n",
       "    </tr>\n",
       "    <tr>\n",
       "      <th>1</th>\n",
       "      <td>2019</td>\n",
       "      <td>16400908</td>\n",
       "      <td>SUBURBAN</td>\n",
       "      <td>Not Entered</td>\n",
       "      <td>Entering Parked Position</td>\n",
       "      <td>Not Entered</td>\n",
       "      <td>East</td>\n",
       "      <td>Not Entered</td>\n",
       "      <td>2007.0</td>\n",
       "      <td>VA</td>\n",
       "      <td>1.0</td>\n",
       "      <td>NaN</td>\n",
       "      <td>TOYT</td>\n",
       "      <td>HUMAN</td>\n",
       "      <td>Not Applicable</td>\n",
       "      <td>HUMAN</td>\n",
       "      <td>Not Applicable</td>\n",
       "      <td>Not Applicable</td>\n",
       "      <td>JTMBK31V276016643</td>\n",
       "    </tr>\n",
       "    <tr>\n",
       "      <th>2</th>\n",
       "      <td>2019</td>\n",
       "      <td>16400907</td>\n",
       "      <td>4 DOOR SEDAN</td>\n",
       "      <td>PASSENGER OR SUBURBAN</td>\n",
       "      <td>Backing</td>\n",
       "      <td>Not Entered</td>\n",
       "      <td>South</td>\n",
       "      <td>Gas</td>\n",
       "      <td>2008.0</td>\n",
       "      <td>NY</td>\n",
       "      <td>1.0</td>\n",
       "      <td>4.0</td>\n",
       "      <td>MAZDA</td>\n",
       "      <td>HUMAN</td>\n",
       "      <td>Backing Unsafely</td>\n",
       "      <td>HUMAN</td>\n",
       "      <td>Not Applicable</td>\n",
       "      <td>Not Applicable</td>\n",
       "      <td>1YVHP80C785M18961</td>\n",
       "    </tr>\n",
       "    <tr>\n",
       "      <th>3</th>\n",
       "      <td>2019</td>\n",
       "      <td>16400910</td>\n",
       "      <td>SUBURBAN</td>\n",
       "      <td>PASSENGER OR SUBURBAN</td>\n",
       "      <td>Making Left Turn</td>\n",
       "      <td>Not Entered</td>\n",
       "      <td>North</td>\n",
       "      <td>Gas</td>\n",
       "      <td>2017.0</td>\n",
       "      <td>NY</td>\n",
       "      <td>1.0</td>\n",
       "      <td>6.0</td>\n",
       "      <td>CHRYS</td>\n",
       "      <td>HUMAN</td>\n",
       "      <td>Not Applicable</td>\n",
       "      <td>HUMAN</td>\n",
       "      <td>Not Applicable</td>\n",
       "      <td>Not Applicable</td>\n",
       "      <td>2C4RC1BGXHR832560</td>\n",
       "    </tr>\n",
       "    <tr>\n",
       "      <th>4</th>\n",
       "      <td>2019</td>\n",
       "      <td>16400909</td>\n",
       "      <td>SUBURBAN</td>\n",
       "      <td>Not Entered</td>\n",
       "      <td>Slowing or Stopping</td>\n",
       "      <td>Not Entered</td>\n",
       "      <td>East</td>\n",
       "      <td>Not Entered</td>\n",
       "      <td>2019.0</td>\n",
       "      <td>AR</td>\n",
       "      <td>2.0</td>\n",
       "      <td>NaN</td>\n",
       "      <td>SUBA</td>\n",
       "      <td>HUMAN</td>\n",
       "      <td>Unsafe Speed</td>\n",
       "      <td>ENVMT</td>\n",
       "      <td>Pavement Slippery</td>\n",
       "      <td>Not Applicable</td>\n",
       "      <td>JF2GTAEC8KH217364</td>\n",
       "    </tr>\n",
       "    <tr>\n",
       "      <th>...</th>\n",
       "      <td>...</td>\n",
       "      <td>...</td>\n",
       "      <td>...</td>\n",
       "      <td>...</td>\n",
       "      <td>...</td>\n",
       "      <td>...</td>\n",
       "      <td>...</td>\n",
       "      <td>...</td>\n",
       "      <td>...</td>\n",
       "      <td>...</td>\n",
       "      <td>...</td>\n",
       "      <td>...</td>\n",
       "      <td>...</td>\n",
       "      <td>...</td>\n",
       "      <td>...</td>\n",
       "      <td>...</td>\n",
       "      <td>...</td>\n",
       "      <td>...</td>\n",
       "      <td>...</td>\n",
       "    </tr>\n",
       "    <tr>\n",
       "      <th>2974595</th>\n",
       "      <td>2023</td>\n",
       "      <td>20104936</td>\n",
       "      <td>4 DOOR SEDAN</td>\n",
       "      <td>PASSENGER OR SUBURBAN</td>\n",
       "      <td>Going Straight Ahead</td>\n",
       "      <td>Not Entered</td>\n",
       "      <td>East</td>\n",
       "      <td>Gas</td>\n",
       "      <td>2007.0</td>\n",
       "      <td>NY</td>\n",
       "      <td>1.0</td>\n",
       "      <td>4.0</td>\n",
       "      <td>HONDA</td>\n",
       "      <td>HUMAN</td>\n",
       "      <td>Not Applicable</td>\n",
       "      <td>HUMAN</td>\n",
       "      <td>Alcohol Involvement</td>\n",
       "      <td>Not Entered</td>\n",
       "      <td>1HGFA16547L034999</td>\n",
       "    </tr>\n",
       "    <tr>\n",
       "      <th>2974596</th>\n",
       "      <td>2023</td>\n",
       "      <td>20104935</td>\n",
       "      <td>SUBURBAN</td>\n",
       "      <td>Not Entered</td>\n",
       "      <td>Parked</td>\n",
       "      <td>Not Entered</td>\n",
       "      <td>East</td>\n",
       "      <td>Not Entered</td>\n",
       "      <td>NaN</td>\n",
       "      <td>NJ</td>\n",
       "      <td>0.0</td>\n",
       "      <td>NaN</td>\n",
       "      <td>None</td>\n",
       "      <td>HUMAN</td>\n",
       "      <td>Not Applicable</td>\n",
       "      <td>HUMAN</td>\n",
       "      <td>Not Applicable</td>\n",
       "      <td>Not Entered</td>\n",
       "      <td>None</td>\n",
       "    </tr>\n",
       "    <tr>\n",
       "      <th>2974597</th>\n",
       "      <td>2023</td>\n",
       "      <td>20104942</td>\n",
       "      <td>4 DOOR SEDAN</td>\n",
       "      <td>Not Entered</td>\n",
       "      <td>Changing Lanes</td>\n",
       "      <td>Not Entered</td>\n",
       "      <td>East</td>\n",
       "      <td>Not Entered</td>\n",
       "      <td>NaN</td>\n",
       "      <td>FL</td>\n",
       "      <td>1.0</td>\n",
       "      <td>NaN</td>\n",
       "      <td>None</td>\n",
       "      <td>HUMAN</td>\n",
       "      <td>Not Entered</td>\n",
       "      <td>HUMAN</td>\n",
       "      <td>Not Entered</td>\n",
       "      <td>Not Entered</td>\n",
       "      <td>None</td>\n",
       "    </tr>\n",
       "    <tr>\n",
       "      <th>2974598</th>\n",
       "      <td>2023</td>\n",
       "      <td>20104941</td>\n",
       "      <td>SUBURBAN</td>\n",
       "      <td>PASSENGER OR SUBURBAN</td>\n",
       "      <td>Going Straight Ahead</td>\n",
       "      <td>Not Entered</td>\n",
       "      <td>East</td>\n",
       "      <td>Gas</td>\n",
       "      <td>2019.0</td>\n",
       "      <td>NY</td>\n",
       "      <td>1.0</td>\n",
       "      <td>4.0</td>\n",
       "      <td>SUBAR</td>\n",
       "      <td>HUMAN</td>\n",
       "      <td>Not Entered</td>\n",
       "      <td>HUMAN</td>\n",
       "      <td>Not Entered</td>\n",
       "      <td>Not Entered</td>\n",
       "      <td>JF2GTAEC6KH332898</td>\n",
       "    </tr>\n",
       "    <tr>\n",
       "      <th>2974599</th>\n",
       "      <td>2023</td>\n",
       "      <td>20104943</td>\n",
       "      <td>SUBURBAN</td>\n",
       "      <td>PASSENGER OR SUBURBAN</td>\n",
       "      <td>Slowing or Stopping</td>\n",
       "      <td>Not Entered</td>\n",
       "      <td>West</td>\n",
       "      <td>Gas</td>\n",
       "      <td>2016.0</td>\n",
       "      <td>NY</td>\n",
       "      <td>1.0</td>\n",
       "      <td>4.0</td>\n",
       "      <td>JEEP</td>\n",
       "      <td>HUMAN</td>\n",
       "      <td>Not Entered</td>\n",
       "      <td>HUMAN</td>\n",
       "      <td>Not Entered</td>\n",
       "      <td>Not Entered</td>\n",
       "      <td>ZACCJBDT4GPD02163</td>\n",
       "    </tr>\n",
       "  </tbody>\n",
       "</table>\n",
       "<p>2974600 rows × 19 columns</p>\n",
       "</div>"
      ],
      "text/plain": [
       "         year  casevehicleid vehiclebodytype      registrationclass  \\\n",
       "0        2019       16400905        SUBURBAN            Not Entered   \n",
       "1        2019       16400908        SUBURBAN            Not Entered   \n",
       "2        2019       16400907    4 DOOR SEDAN  PASSENGER OR SUBURBAN   \n",
       "3        2019       16400910        SUBURBAN  PASSENGER OR SUBURBAN   \n",
       "4        2019       16400909        SUBURBAN            Not Entered   \n",
       "...       ...            ...             ...                    ...   \n",
       "2974595  2023       20104936    4 DOOR SEDAN  PASSENGER OR SUBURBAN   \n",
       "2974596  2023       20104935        SUBURBAN            Not Entered   \n",
       "2974597  2023       20104942    4 DOOR SEDAN            Not Entered   \n",
       "2974598  2023       20104941        SUBURBAN  PASSENGER OR SUBURBAN   \n",
       "2974599  2023       20104943        SUBURBAN  PASSENGER OR SUBURBAN   \n",
       "\n",
       "            actionpriortoaccident truckbustypeaxles directionoftravel  \\\n",
       "0            Going Straight Ahead       Not Entered             North   \n",
       "1        Entering Parked Position       Not Entered              East   \n",
       "2                         Backing       Not Entered             South   \n",
       "3                Making Left Turn       Not Entered             North   \n",
       "4             Slowing or Stopping       Not Entered              East   \n",
       "...                           ...               ...               ...   \n",
       "2974595      Going Straight Ahead       Not Entered              East   \n",
       "2974596                    Parked       Not Entered              East   \n",
       "2974597            Changing Lanes       Not Entered              East   \n",
       "2974598      Going Straight Ahead       Not Entered              East   \n",
       "2974599       Slowing or Stopping       Not Entered              West   \n",
       "\n",
       "            fueltype  vehicleyear stateofregistration  numberofoccupants  \\\n",
       "0        Not Entered       2014.0                  VA                3.0   \n",
       "1        Not Entered       2007.0                  VA                1.0   \n",
       "2                Gas       2008.0                  NY                1.0   \n",
       "3                Gas       2017.0                  NY                1.0   \n",
       "4        Not Entered       2019.0                  AR                2.0   \n",
       "...              ...          ...                 ...                ...   \n",
       "2974595          Gas       2007.0                  NY                1.0   \n",
       "2974596  Not Entered          NaN                  NJ                0.0   \n",
       "2974597  Not Entered          NaN                  FL                1.0   \n",
       "2974598          Gas       2019.0                  NY                1.0   \n",
       "2974599          Gas       2016.0                  NY                1.0   \n",
       "\n",
       "         enginecylinders vehiclemake contributingfactor1  \\\n",
       "0                    NaN         GMC               HUMAN   \n",
       "1                    NaN        TOYT               HUMAN   \n",
       "2                    4.0       MAZDA               HUMAN   \n",
       "3                    6.0       CHRYS               HUMAN   \n",
       "4                    NaN        SUBA               HUMAN   \n",
       "...                  ...         ...                 ...   \n",
       "2974595              4.0       HONDA               HUMAN   \n",
       "2974596              NaN        None               HUMAN   \n",
       "2974597              NaN        None               HUMAN   \n",
       "2974598              4.0       SUBAR               HUMAN   \n",
       "2974599              4.0        JEEP               HUMAN   \n",
       "\n",
       "        contributingfactor1description contributingfactor2  \\\n",
       "0                         Unsafe Speed               ENVMT   \n",
       "1                       Not Applicable               HUMAN   \n",
       "2                     Backing Unsafely               HUMAN   \n",
       "3                       Not Applicable               HUMAN   \n",
       "4                         Unsafe Speed               ENVMT   \n",
       "...                                ...                 ...   \n",
       "2974595                 Not Applicable               HUMAN   \n",
       "2974596                 Not Applicable               HUMAN   \n",
       "2974597                    Not Entered               HUMAN   \n",
       "2974598                    Not Entered               HUMAN   \n",
       "2974599                    Not Entered               HUMAN   \n",
       "\n",
       "        contributingfactor2description       eventtype         partialvin  \n",
       "0                    Pavement Slippery            None  1GKKVRKD5EJ23OO86  \n",
       "1                       Not Applicable  Not Applicable  JTMBK31V276016643  \n",
       "2                       Not Applicable  Not Applicable  1YVHP80C785M18961  \n",
       "3                       Not Applicable  Not Applicable  2C4RC1BGXHR832560  \n",
       "4                    Pavement Slippery  Not Applicable  JF2GTAEC8KH217364  \n",
       "...                                ...             ...                ...  \n",
       "2974595            Alcohol Involvement     Not Entered  1HGFA16547L034999  \n",
       "2974596                 Not Applicable     Not Entered               None  \n",
       "2974597                    Not Entered     Not Entered               None  \n",
       "2974598                    Not Entered     Not Entered  JF2GTAEC6KH332898  \n",
       "2974599                    Not Entered     Not Entered  ZACCJBDT4GPD02163  \n",
       "\n",
       "[2974600 rows x 19 columns]"
      ]
     },
     "execution_count": 7,
     "metadata": {},
     "output_type": "execute_result"
    }
   ],
   "source": [
    "df.head()"
   ]
  },
  {
   "cell_type": "markdown",
   "id": "1b08c267-abea-498c-b9fc-21217be6c34b",
   "metadata": {},
   "source": [
    "#### Afficher les info globales sur ces données"
   ]
  },
  {
   "cell_type": "code",
   "execution_count": 8,
   "id": "e2ec99fb-13bc-4b1d-978e-56791b58e3cc",
   "metadata": {},
   "outputs": [
    {
     "name": "stdout",
     "output_type": "stream",
     "text": [
      "<class 'pandas.core.frame.DataFrame'>\n",
      "RangeIndex: 2974600 entries, 0 to 2974599\n",
      "Data columns (total 19 columns):\n",
      " #   Column                          Dtype  \n",
      "---  ------                          -----  \n",
      " 0   year                            int64  \n",
      " 1   casevehicleid                   int64  \n",
      " 2   vehiclebodytype                 object \n",
      " 3   registrationclass               object \n",
      " 4   actionpriortoaccident           object \n",
      " 5   truckbustypeaxles               object \n",
      " 6   directionoftravel               object \n",
      " 7   fueltype                        object \n",
      " 8   vehicleyear                     float64\n",
      " 9   stateofregistration             object \n",
      " 10  numberofoccupants               float64\n",
      " 11  enginecylinders                 float64\n",
      " 12  vehiclemake                     object \n",
      " 13  contributingfactor1             object \n",
      " 14  contributingfactor1description  object \n",
      " 15  contributingfactor2             object \n",
      " 16  contributingfactor2description  object \n",
      " 17  eventtype                       object \n",
      " 18  partialvin                      object \n",
      "dtypes: float64(3), int64(2), object(14)\n",
      "memory usage: 431.2+ MB\n"
     ]
    }
   ],
   "source": [
    "df.info()"
   ]
  },
  {
   "cell_type": "markdown",
   "id": "36e5c090",
   "metadata": {},
   "source": [
    "## Chargement des données dans polars"
   ]
  },
  {
   "cell_type": "code",
   "execution_count": 9,
   "id": "7c27567e",
   "metadata": {},
   "outputs": [
    {
     "name": "stderr",
     "output_type": "stream",
     "text": [
      "C:\\Windows\\Temp\\ipykernel_14376\\3707090048.py:11: DataOrientationWarning: Row orientation inferred during DataFrame construction. Explicitly specify the orientation by passing `orient=\"row\"` to silence this warning.\n",
      "  df = pl.DataFrame(rows, schema=columns)\n"
     ]
    },
    {
     "data": {
      "text/html": [
       "<div><style>\n",
       ".dataframe > thead > tr,\n",
       ".dataframe > tbody > tr {\n",
       "  text-align: right;\n",
       "  white-space: pre-wrap;\n",
       "}\n",
       "</style>\n",
       "<small>shape: (5, 19)</small><table border=\"1\" class=\"dataframe\"><thead><tr><th>year</th><th>casevehicleid</th><th>vehiclebodytype</th><th>registrationclass</th><th>actionpriortoaccident</th><th>truckbustypeaxles</th><th>directionoftravel</th><th>fueltype</th><th>vehicleyear</th><th>stateofregistration</th><th>numberofoccupants</th><th>enginecylinders</th><th>vehiclemake</th><th>contributingfactor1</th><th>contributingfactor1description</th><th>contributingfactor2</th><th>contributingfactor2description</th><th>eventtype</th><th>partialvin</th></tr><tr><td>i64</td><td>i64</td><td>str</td><td>str</td><td>str</td><td>str</td><td>str</td><td>str</td><td>i64</td><td>str</td><td>i64</td><td>i64</td><td>str</td><td>str</td><td>str</td><td>str</td><td>str</td><td>str</td><td>str</td></tr></thead><tbody><tr><td>2019</td><td>16400905</td><td>&quot;SUBURBAN&quot;</td><td>&quot;Not Entered&quot;</td><td>&quot;Going Straight Ahead&quot;</td><td>&quot;Not Entered&quot;</td><td>&quot;North&quot;</td><td>&quot;Not Entered&quot;</td><td>2014</td><td>&quot;VA&quot;</td><td>3</td><td>null</td><td>&quot;GMC&quot;</td><td>&quot;HUMAN&quot;</td><td>&quot;Unsafe Speed&quot;</td><td>&quot;ENVMT&quot;</td><td>&quot;Pavement Slippery&quot;</td><td>null</td><td>&quot;1GKKVRKD5EJ23OO86&quot;</td></tr><tr><td>2019</td><td>16400908</td><td>&quot;SUBURBAN&quot;</td><td>&quot;Not Entered&quot;</td><td>&quot;Entering Parked Position&quot;</td><td>&quot;Not Entered&quot;</td><td>&quot;East&quot;</td><td>&quot;Not Entered&quot;</td><td>2007</td><td>&quot;VA&quot;</td><td>1</td><td>null</td><td>&quot;TOYT&quot;</td><td>&quot;HUMAN&quot;</td><td>&quot;Not Applicable&quot;</td><td>&quot;HUMAN&quot;</td><td>&quot;Not Applicable&quot;</td><td>&quot;Not Applicable&quot;</td><td>&quot;JTMBK31V276016643&quot;</td></tr><tr><td>2019</td><td>16400907</td><td>&quot;4 DOOR SEDAN&quot;</td><td>&quot;PASSENGER OR SUBURBAN&quot;</td><td>&quot;Backing&quot;</td><td>&quot;Not Entered&quot;</td><td>&quot;South&quot;</td><td>&quot;Gas&quot;</td><td>2008</td><td>&quot;NY&quot;</td><td>1</td><td>4</td><td>&quot;MAZDA&quot;</td><td>&quot;HUMAN&quot;</td><td>&quot;Backing Unsafely&quot;</td><td>&quot;HUMAN&quot;</td><td>&quot;Not Applicable&quot;</td><td>&quot;Not Applicable&quot;</td><td>&quot;1YVHP80C785M18961&quot;</td></tr><tr><td>2019</td><td>16400910</td><td>&quot;SUBURBAN&quot;</td><td>&quot;PASSENGER OR SUBURBAN&quot;</td><td>&quot;Making Left Turn&quot;</td><td>&quot;Not Entered&quot;</td><td>&quot;North&quot;</td><td>&quot;Gas&quot;</td><td>2017</td><td>&quot;NY&quot;</td><td>1</td><td>6</td><td>&quot;CHRYS&quot;</td><td>&quot;HUMAN&quot;</td><td>&quot;Not Applicable&quot;</td><td>&quot;HUMAN&quot;</td><td>&quot;Not Applicable&quot;</td><td>&quot;Not Applicable&quot;</td><td>&quot;2C4RC1BGXHR832560&quot;</td></tr><tr><td>2019</td><td>16400909</td><td>&quot;SUBURBAN&quot;</td><td>&quot;Not Entered&quot;</td><td>&quot;Slowing or Stopping&quot;</td><td>&quot;Not Entered&quot;</td><td>&quot;East&quot;</td><td>&quot;Not Entered&quot;</td><td>2019</td><td>&quot;AR&quot;</td><td>2</td><td>null</td><td>&quot;SUBA&quot;</td><td>&quot;HUMAN&quot;</td><td>&quot;Unsafe Speed&quot;</td><td>&quot;ENVMT&quot;</td><td>&quot;Pavement Slippery&quot;</td><td>&quot;Not Applicable&quot;</td><td>&quot;JF2GTAEC8KH217364&quot;</td></tr></tbody></table></div>"
      ],
      "text/plain": [
       "shape: (5, 19)\n",
       "┌──────┬────────────┬────────────┬────────────┬───┬────────────┬───────────┬───────────┬───────────┐\n",
       "│ year ┆ casevehicl ┆ vehiclebod ┆ registrati ┆ … ┆ contributi ┆ contribut ┆ eventtype ┆ partialvi │\n",
       "│ ---  ┆ eid        ┆ ytype      ┆ onclass    ┆   ┆ ngfactor2  ┆ ingfactor ┆ ---       ┆ n         │\n",
       "│ i64  ┆ ---        ┆ ---        ┆ ---        ┆   ┆ ---        ┆ 2descript ┆ str       ┆ ---       │\n",
       "│      ┆ i64        ┆ str        ┆ str        ┆   ┆ str        ┆ ion       ┆           ┆ str       │\n",
       "│      ┆            ┆            ┆            ┆   ┆            ┆ ---       ┆           ┆           │\n",
       "│      ┆            ┆            ┆            ┆   ┆            ┆ str       ┆           ┆           │\n",
       "╞══════╪════════════╪════════════╪════════════╪═══╪════════════╪═══════════╪═══════════╪═══════════╡\n",
       "│ 2019 ┆ 16400905   ┆ SUBURBAN   ┆ Not        ┆ … ┆ ENVMT      ┆ Pavement  ┆ null      ┆ 1GKKVRKD5 │\n",
       "│      ┆            ┆            ┆ Entered    ┆   ┆            ┆ Slippery  ┆           ┆ EJ23OO86  │\n",
       "│ 2019 ┆ 16400908   ┆ SUBURBAN   ┆ Not        ┆ … ┆ HUMAN      ┆ Not Appli ┆ Not Appli ┆ JTMBK31V2 │\n",
       "│      ┆            ┆            ┆ Entered    ┆   ┆            ┆ cable     ┆ cable     ┆ 76016643  │\n",
       "│ 2019 ┆ 16400907   ┆ 4 DOOR     ┆ PASSENGER  ┆ … ┆ HUMAN      ┆ Not Appli ┆ Not Appli ┆ 1YVHP80C7 │\n",
       "│      ┆            ┆ SEDAN      ┆ OR         ┆   ┆            ┆ cable     ┆ cable     ┆ 85M18961  │\n",
       "│      ┆            ┆            ┆ SUBURBAN   ┆   ┆            ┆           ┆           ┆           │\n",
       "│ 2019 ┆ 16400910   ┆ SUBURBAN   ┆ PASSENGER  ┆ … ┆ HUMAN      ┆ Not Appli ┆ Not Appli ┆ 2C4RC1BGX │\n",
       "│      ┆            ┆            ┆ OR         ┆   ┆            ┆ cable     ┆ cable     ┆ HR832560  │\n",
       "│      ┆            ┆            ┆ SUBURBAN   ┆   ┆            ┆           ┆           ┆           │\n",
       "│ 2019 ┆ 16400909   ┆ SUBURBAN   ┆ Not        ┆ … ┆ ENVMT      ┆ Pavement  ┆ Not Appli ┆ JF2GTAEC8 │\n",
       "│      ┆            ┆            ┆ Entered    ┆   ┆            ┆ Slippery  ┆ cable     ┆ KH217364  │\n",
       "└──────┴────────────┴────────────┴────────────┴───┴────────────┴───────────┴───────────┴───────────┘"
      ]
     },
     "execution_count": 9,
     "metadata": {},
     "output_type": "execute_result"
    }
   ],
   "source": [
    "import polars as pl # type: ignore\n",
    "\n",
    "\n",
    "# Execute query and fetch data\n",
    "with conn.cursor() as cursor:\n",
    "    cursor.execute(query)\n",
    "    rows = cursor.fetchall()\n",
    "    columns = [desc[0] for desc in cursor.description]  # Get column names\n",
    "\n",
    "# Convert fetched data to Polars DataFrame\n",
    "df = pl.DataFrame(rows, schema=columns)\n",
    "\n",
    "# Preview the data\n",
    "df.head()\n"
   ]
  },
  {
   "cell_type": "code",
   "execution_count": 10,
   "id": "20c53b18",
   "metadata": {},
   "outputs": [
    {
     "data": {
      "text/plain": [
       "(2974600, 19)"
      ]
     },
     "execution_count": 10,
     "metadata": {},
     "output_type": "execute_result"
    }
   ],
   "source": [
    "df.shape"
   ]
  },
  {
   "cell_type": "markdown",
   "id": "dae9166e",
   "metadata": {},
   "source": [
    "## Examiner les colonnes et types :"
   ]
  },
  {
   "cell_type": "code",
   "execution_count": 11,
   "id": "89e07a1a",
   "metadata": {},
   "outputs": [
    {
     "name": "stdout",
     "output_type": "stream",
     "text": [
      "Noms des colonnes et leurs types de données :\n"
     ]
    },
    {
     "data": {
      "text/plain": [
       "Schema([('year', Int64),\n",
       "        ('casevehicleid', Int64),\n",
       "        ('vehiclebodytype', String),\n",
       "        ('registrationclass', String),\n",
       "        ('actionpriortoaccident', String),\n",
       "        ('truckbustypeaxles', String),\n",
       "        ('directionoftravel', String),\n",
       "        ('fueltype', String),\n",
       "        ('vehicleyear', Int64),\n",
       "        ('stateofregistration', String),\n",
       "        ('numberofoccupants', Int64),\n",
       "        ('enginecylinders', Int64),\n",
       "        ('vehiclemake', String),\n",
       "        ('contributingfactor1', String),\n",
       "        ('contributingfactor1description', String),\n",
       "        ('contributingfactor2', String),\n",
       "        ('contributingfactor2description', String),\n",
       "        ('eventtype', String),\n",
       "        ('partialvin', String)])"
      ]
     },
     "execution_count": 11,
     "metadata": {},
     "output_type": "execute_result"
    }
   ],
   "source": [
    "# Afficher les noms des colonnes et leurs types\n",
    "print(\"Noms des colonnes et leurs types de données :\")\n",
    "df.schema"
   ]
  },
  {
   "cell_type": "markdown",
   "id": "829ef778",
   "metadata": {},
   "source": [
    "## Résumé statistique :"
   ]
  },
  {
   "cell_type": "code",
   "execution_count": 12,
   "id": "330f0ba6",
   "metadata": {},
   "outputs": [
    {
     "data": {
      "text/html": [
       "<div><style>\n",
       ".dataframe > thead > tr,\n",
       ".dataframe > tbody > tr {\n",
       "  text-align: right;\n",
       "  white-space: pre-wrap;\n",
       "}\n",
       "</style>\n",
       "<small>shape: (9, 20)</small><table border=\"1\" class=\"dataframe\"><thead><tr><th>statistic</th><th>year</th><th>casevehicleid</th><th>vehiclebodytype</th><th>registrationclass</th><th>actionpriortoaccident</th><th>truckbustypeaxles</th><th>directionoftravel</th><th>fueltype</th><th>vehicleyear</th><th>stateofregistration</th><th>numberofoccupants</th><th>enginecylinders</th><th>vehiclemake</th><th>contributingfactor1</th><th>contributingfactor1description</th><th>contributingfactor2</th><th>contributingfactor2description</th><th>eventtype</th><th>partialvin</th></tr><tr><td>str</td><td>f64</td><td>f64</td><td>str</td><td>str</td><td>str</td><td>str</td><td>str</td><td>str</td><td>f64</td><td>str</td><td>f64</td><td>f64</td><td>str</td><td>str</td><td>str</td><td>str</td><td>str</td><td>str</td><td>str</td></tr></thead><tbody><tr><td>&quot;count&quot;</td><td>2.9746e6</td><td>2.9746e6</td><td>&quot;2974600&quot;</td><td>&quot;2974600&quot;</td><td>&quot;2974600&quot;</td><td>&quot;2974600&quot;</td><td>&quot;2974600&quot;</td><td>&quot;2974600&quot;</td><td>2.437414e6</td><td>&quot;2718085&quot;</td><td>2.675316e6</td><td>2.268707e6</td><td>&quot;2440820&quot;</td><td>&quot;2974600&quot;</td><td>&quot;2974600&quot;</td><td>&quot;2974600&quot;</td><td>&quot;2974600&quot;</td><td>&quot;2915416&quot;</td><td>&quot;2376288&quot;</td></tr><tr><td>&quot;null_count&quot;</td><td>0.0</td><td>0.0</td><td>&quot;0&quot;</td><td>&quot;0&quot;</td><td>&quot;0&quot;</td><td>&quot;0&quot;</td><td>&quot;0&quot;</td><td>&quot;0&quot;</td><td>537186.0</td><td>&quot;256515&quot;</td><td>299284.0</td><td>705893.0</td><td>&quot;533780&quot;</td><td>&quot;0&quot;</td><td>&quot;0&quot;</td><td>&quot;0&quot;</td><td>&quot;0&quot;</td><td>&quot;59184&quot;</td><td>&quot;598312&quot;</td></tr><tr><td>&quot;mean&quot;</td><td>2020.564611</td><td>1.8275e7</td><td>null</td><td>null</td><td>null</td><td>null</td><td>null</td><td>null</td><td>2012.954348</td><td>null</td><td>1.229771</td><td>5.131923</td><td>null</td><td>null</td><td>null</td><td>null</td><td>null</td><td>null</td><td>null</td></tr><tr><td>&quot;std&quot;</td><td>1.244921</td><td>1.0879e6</td><td>null</td><td>null</td><td>null</td><td>null</td><td>null</td><td>null</td><td>6.346895</td><td>null</td><td>1.245335</td><td>1.456954</td><td>null</td><td>null</td><td>null</td><td>null</td><td>null</td><td>null</td><td>null</td></tr><tr><td>&quot;min&quot;</td><td>2019.0</td><td>1.5350252e7</td><td>&quot;2 DOOR SEDAN&quot;</td><td>&quot;AGRICULTURAL COMMERCIAL&quot;</td><td>&quot;Avoiding Object in Roadway&quot;</td><td>&quot;2 axle box trailer and 3 axle …</td><td>&quot;East&quot;</td><td>&quot;Compressed Natural Gas&quot;</td><td>20.0</td><td>&quot;AB&quot;</td><td>0.0</td><td>0.0</td><td>&quot;A&quot;</td><td>&quot;ENVMT&quot;</td><td>&quot;Accelerator Defective&quot;</td><td>&quot;ENVMT&quot;</td><td>&quot;Accelerator Defective&quot;</td><td>&quot;Animal, Collision With&quot;</td><td>&quot;0&quot;</td></tr><tr><td>&quot;25%&quot;</td><td>2019.0</td><td>1.7336531e7</td><td>null</td><td>null</td><td>null</td><td>null</td><td>null</td><td>null</td><td>2009.0</td><td>null</td><td>1.0</td><td>4.0</td><td>null</td><td>null</td><td>null</td><td>null</td><td>null</td><td>null</td><td>null</td></tr><tr><td>&quot;50%&quot;</td><td>2021.0</td><td>1.8286656e7</td><td>null</td><td>null</td><td>null</td><td>null</td><td>null</td><td>null</td><td>2014.0</td><td>null</td><td>1.0</td><td>4.0</td><td>null</td><td>null</td><td>null</td><td>null</td><td>null</td><td>null</td><td>null</td></tr><tr><td>&quot;75%&quot;</td><td>2022.0</td><td>1.922296e7</td><td>null</td><td>null</td><td>null</td><td>null</td><td>null</td><td>null</td><td>2018.0</td><td>null</td><td>1.0</td><td>6.0</td><td>null</td><td>null</td><td>null</td><td>null</td><td>null</td><td>null</td><td>null</td></tr><tr><td>&quot;max&quot;</td><td>2023.0</td><td>2.1284225e7</td><td>&quot;WELL SERVICING RIG&quot;</td><td>&quot;VAS VOLUNTEER AMBULANCE&quot;</td><td>&quot;Unknown&quot;</td><td>&quot;Unknown&quot;</td><td>&quot;West&quot;</td><td>&quot;Propane&quot;</td><td>2024.0</td><td>&quot;ZS&quot;</td><td>687.0</td><td>16.0</td><td>&quot;ZZ&quot;</td><td>&quot;VEHICLE&quot;</td><td>&quot;Windshield Inadequate&quot;</td><td>&quot;VEHICLE&quot;</td><td>&quot;Windshield Inadequate&quot;</td><td>&quot;Unknown&quot;</td><td>&quot;yv1ah99x81054962&quot;</td></tr></tbody></table></div>"
      ],
      "text/plain": [
       "shape: (9, 20)\n",
       "┌───────────┬───────────┬───────────┬───────────┬───┬───────────┬───────────┬───────────┬──────────┐\n",
       "│ statistic ┆ year      ┆ casevehic ┆ vehiclebo ┆ … ┆ contribut ┆ contribut ┆ eventtype ┆ partialv │\n",
       "│ ---       ┆ ---       ┆ leid      ┆ dytype    ┆   ┆ ingfactor ┆ ingfactor ┆ ---       ┆ in       │\n",
       "│ str       ┆ f64       ┆ ---       ┆ ---       ┆   ┆ 2         ┆ 2descript ┆ str       ┆ ---      │\n",
       "│           ┆           ┆ f64       ┆ str       ┆   ┆ ---       ┆ ion       ┆           ┆ str      │\n",
       "│           ┆           ┆           ┆           ┆   ┆ str       ┆ ---       ┆           ┆          │\n",
       "│           ┆           ┆           ┆           ┆   ┆           ┆ str       ┆           ┆          │\n",
       "╞═══════════╪═══════════╪═══════════╪═══════════╪═══╪═══════════╪═══════════╪═══════════╪══════════╡\n",
       "│ count     ┆ 2.9746e6  ┆ 2.9746e6  ┆ 2974600   ┆ … ┆ 2974600   ┆ 2974600   ┆ 2915416   ┆ 2376288  │\n",
       "│ null_coun ┆ 0.0       ┆ 0.0       ┆ 0         ┆ … ┆ 0         ┆ 0         ┆ 59184     ┆ 598312   │\n",
       "│ t         ┆           ┆           ┆           ┆   ┆           ┆           ┆           ┆          │\n",
       "│ mean      ┆ 2020.5646 ┆ 1.8275e7  ┆ null      ┆ … ┆ null      ┆ null      ┆ null      ┆ null     │\n",
       "│           ┆ 11        ┆           ┆           ┆   ┆           ┆           ┆           ┆          │\n",
       "│ std       ┆ 1.244921  ┆ 1.0879e6  ┆ null      ┆ … ┆ null      ┆ null      ┆ null      ┆ null     │\n",
       "│ min       ┆ 2019.0    ┆ 1.5350252 ┆ 2 DOOR    ┆ … ┆ ENVMT     ┆ Accelerat ┆ Animal,   ┆ 0        │\n",
       "│           ┆           ┆ e7        ┆ SEDAN     ┆   ┆           ┆ or        ┆ Collision ┆          │\n",
       "│           ┆           ┆           ┆           ┆   ┆           ┆ Defective ┆ With      ┆          │\n",
       "│ 25%       ┆ 2019.0    ┆ 1.7336531 ┆ null      ┆ … ┆ null      ┆ null      ┆ null      ┆ null     │\n",
       "│           ┆           ┆ e7        ┆           ┆   ┆           ┆           ┆           ┆          │\n",
       "│ 50%       ┆ 2021.0    ┆ 1.8286656 ┆ null      ┆ … ┆ null      ┆ null      ┆ null      ┆ null     │\n",
       "│           ┆           ┆ e7        ┆           ┆   ┆           ┆           ┆           ┆          │\n",
       "│ 75%       ┆ 2022.0    ┆ 1.922296e ┆ null      ┆ … ┆ null      ┆ null      ┆ null      ┆ null     │\n",
       "│           ┆           ┆ 7         ┆           ┆   ┆           ┆           ┆           ┆          │\n",
       "│ max       ┆ 2023.0    ┆ 2.1284225 ┆ WELL      ┆ … ┆ VEHICLE   ┆ Windshiel ┆ Unknown   ┆ yv1ah99x │\n",
       "│           ┆           ┆ e7        ┆ SERVICING ┆   ┆           ┆ d Inadequ ┆           ┆ 81054962 │\n",
       "│           ┆           ┆           ┆ RIG       ┆   ┆           ┆ ate       ┆           ┆          │\n",
       "└───────────┴───────────┴───────────┴───────────┴───┴───────────┴───────────┴───────────┴──────────┘"
      ]
     },
     "execution_count": 12,
     "metadata": {},
     "output_type": "execute_result"
    }
   ],
   "source": [
    "df.describe()"
   ]
  },
  {
   "cell_type": "markdown",
   "id": "bd467d76",
   "metadata": {},
   "source": [
    "## Nettoyage des Données avec polars"
   ]
  },
  {
   "cell_type": "markdown",
   "id": "a478ad77",
   "metadata": {},
   "source": [
    "### 1- Identifier et gérer les valeurs manquantes :"
   ]
  },
  {
   "cell_type": "code",
   "execution_count": 13,
   "id": "4d7da769",
   "metadata": {},
   "outputs": [
    {
     "name": "stdout",
     "output_type": "stream",
     "text": [
      "Nombre de valeurs manquantes par colonne :\n"
     ]
    },
    {
     "data": {
      "text/html": [
       "<div><style>\n",
       ".dataframe > thead > tr,\n",
       ".dataframe > tbody > tr {\n",
       "  text-align: right;\n",
       "  white-space: pre-wrap;\n",
       "}\n",
       "</style>\n",
       "<small>shape: (1, 19)</small><table border=\"1\" class=\"dataframe\"><thead><tr><th>year</th><th>casevehicleid</th><th>vehiclebodytype</th><th>registrationclass</th><th>actionpriortoaccident</th><th>truckbustypeaxles</th><th>directionoftravel</th><th>fueltype</th><th>vehicleyear</th><th>stateofregistration</th><th>numberofoccupants</th><th>enginecylinders</th><th>vehiclemake</th><th>contributingfactor1</th><th>contributingfactor1description</th><th>contributingfactor2</th><th>contributingfactor2description</th><th>eventtype</th><th>partialvin</th></tr><tr><td>u32</td><td>u32</td><td>u32</td><td>u32</td><td>u32</td><td>u32</td><td>u32</td><td>u32</td><td>u32</td><td>u32</td><td>u32</td><td>u32</td><td>u32</td><td>u32</td><td>u32</td><td>u32</td><td>u32</td><td>u32</td><td>u32</td></tr></thead><tbody><tr><td>0</td><td>0</td><td>0</td><td>0</td><td>0</td><td>0</td><td>0</td><td>0</td><td>537186</td><td>256515</td><td>299284</td><td>705893</td><td>533780</td><td>0</td><td>0</td><td>0</td><td>0</td><td>59184</td><td>598312</td></tr></tbody></table></div>"
      ],
      "text/plain": [
       "shape: (1, 19)\n",
       "┌──────┬────────────┬────────────┬────────────┬───┬────────────┬───────────┬───────────┬───────────┐\n",
       "│ year ┆ casevehicl ┆ vehiclebod ┆ registrati ┆ … ┆ contributi ┆ contribut ┆ eventtype ┆ partialvi │\n",
       "│ ---  ┆ eid        ┆ ytype      ┆ onclass    ┆   ┆ ngfactor2  ┆ ingfactor ┆ ---       ┆ n         │\n",
       "│ u32  ┆ ---        ┆ ---        ┆ ---        ┆   ┆ ---        ┆ 2descript ┆ u32       ┆ ---       │\n",
       "│      ┆ u32        ┆ u32        ┆ u32        ┆   ┆ u32        ┆ ion       ┆           ┆ u32       │\n",
       "│      ┆            ┆            ┆            ┆   ┆            ┆ ---       ┆           ┆           │\n",
       "│      ┆            ┆            ┆            ┆   ┆            ┆ u32       ┆           ┆           │\n",
       "╞══════╪════════════╪════════════╪════════════╪═══╪════════════╪═══════════╪═══════════╪═══════════╡\n",
       "│ 0    ┆ 0          ┆ 0          ┆ 0          ┆ … ┆ 0          ┆ 0         ┆ 59184     ┆ 598312    │\n",
       "└──────┴────────────┴────────────┴────────────┴───┴────────────┴───────────┴───────────┴───────────┘"
      ]
     },
     "execution_count": 13,
     "metadata": {},
     "output_type": "execute_result"
    }
   ],
   "source": [
    "# Vérifier la présence de valeurs nulles dans chaque colonne\n",
    "missing_values = df.select([pl.col(c).is_null().sum().alias(c) for c in df.columns])\n",
    "print(\"Nombre de valeurs manquantes par colonne :\")\n",
    "missing_values"
   ]
  },
  {
   "cell_type": "markdown",
   "id": "87260465",
   "metadata": {},
   "source": [
    "### 2- Supprimer les valeurs manquantes"
   ]
  },
  {
   "cell_type": "code",
   "execution_count": 14,
   "id": "c22caea7",
   "metadata": {},
   "outputs": [
    {
     "name": "stdout",
     "output_type": "stream",
     "text": [
      "DataFrame après suppression des valeurs nulles :\n"
     ]
    },
    {
     "data": {
      "text/html": [
       "<div><style>\n",
       ".dataframe > thead > tr,\n",
       ".dataframe > tbody > tr {\n",
       "  text-align: right;\n",
       "  white-space: pre-wrap;\n",
       "}\n",
       "</style>\n",
       "<small>shape: (5, 19)</small><table border=\"1\" class=\"dataframe\"><thead><tr><th>year</th><th>casevehicleid</th><th>vehiclebodytype</th><th>registrationclass</th><th>actionpriortoaccident</th><th>truckbustypeaxles</th><th>directionoftravel</th><th>fueltype</th><th>vehicleyear</th><th>stateofregistration</th><th>numberofoccupants</th><th>enginecylinders</th><th>vehiclemake</th><th>contributingfactor1</th><th>contributingfactor1description</th><th>contributingfactor2</th><th>contributingfactor2description</th><th>eventtype</th><th>partialvin</th></tr><tr><td>i64</td><td>i64</td><td>str</td><td>str</td><td>str</td><td>str</td><td>str</td><td>str</td><td>i64</td><td>str</td><td>i64</td><td>i64</td><td>str</td><td>str</td><td>str</td><td>str</td><td>str</td><td>str</td><td>str</td></tr></thead><tbody><tr><td>2019</td><td>16400907</td><td>&quot;4 DOOR SEDAN&quot;</td><td>&quot;PASSENGER OR SUBURBAN&quot;</td><td>&quot;Backing&quot;</td><td>&quot;Not Entered&quot;</td><td>&quot;South&quot;</td><td>&quot;Gas&quot;</td><td>2008</td><td>&quot;NY&quot;</td><td>1</td><td>4</td><td>&quot;MAZDA&quot;</td><td>&quot;HUMAN&quot;</td><td>&quot;Backing Unsafely&quot;</td><td>&quot;HUMAN&quot;</td><td>&quot;Not Applicable&quot;</td><td>&quot;Not Applicable&quot;</td><td>&quot;1YVHP80C785M18961&quot;</td></tr><tr><td>2019</td><td>16400910</td><td>&quot;SUBURBAN&quot;</td><td>&quot;PASSENGER OR SUBURBAN&quot;</td><td>&quot;Making Left Turn&quot;</td><td>&quot;Not Entered&quot;</td><td>&quot;North&quot;</td><td>&quot;Gas&quot;</td><td>2017</td><td>&quot;NY&quot;</td><td>1</td><td>6</td><td>&quot;CHRYS&quot;</td><td>&quot;HUMAN&quot;</td><td>&quot;Not Applicable&quot;</td><td>&quot;HUMAN&quot;</td><td>&quot;Not Applicable&quot;</td><td>&quot;Not Applicable&quot;</td><td>&quot;2C4RC1BGXHR832560&quot;</td></tr><tr><td>2019</td><td>16400912</td><td>&quot;SUBURBAN&quot;</td><td>&quot;PASSENGER OR SUBURBAN&quot;</td><td>&quot;Going Straight Ahead&quot;</td><td>&quot;Not Entered&quot;</td><td>&quot;East&quot;</td><td>&quot;Gas&quot;</td><td>2012</td><td>&quot;NY&quot;</td><td>2</td><td>8</td><td>&quot;FORD&quot;</td><td>&quot;ENVMT&quot;</td><td>&quot;Pavement Slippery&quot;</td><td>&quot;VEHICLE&quot;</td><td>&quot;Oversized Vehicle&quot;</td><td>&quot;Other*, Non-Collision&quot;</td><td>&quot;1FBNE3BL9CDA77581&quot;</td></tr><tr><td>2019</td><td>16400911</td><td>&quot;4 DOOR SEDAN&quot;</td><td>&quot;PASSENGER OR SUBURBAN&quot;</td><td>&quot;Going Straight Ahead&quot;</td><td>&quot;Not Entered&quot;</td><td>&quot;West&quot;</td><td>&quot;Gas&quot;</td><td>2015</td><td>&quot;NY&quot;</td><td>2</td><td>4</td><td>&quot;CHEVR&quot;</td><td>&quot;HUMAN&quot;</td><td>&quot;Unsafe Speed&quot;</td><td>&quot;ENVMT&quot;</td><td>&quot;Pavement Slippery&quot;</td><td>&quot;Not Applicable&quot;</td><td>&quot;1G11D5SL4FU120214&quot;</td></tr><tr><td>2019</td><td>16400915</td><td>&quot;PICKUP TRUCK&quot;</td><td>&quot;PASSENGER OR SUBURBAN&quot;</td><td>&quot;Stopped in Traffic&quot;</td><td>&quot;Not Entered&quot;</td><td>&quot;East&quot;</td><td>&quot;Gas&quot;</td><td>2001</td><td>&quot;NY&quot;</td><td>1</td><td>8</td><td>&quot;CHEVR&quot;</td><td>&quot;HUMAN&quot;</td><td>&quot;Not Applicable&quot;</td><td>&quot;HUMAN&quot;</td><td>&quot;Not Applicable&quot;</td><td>&quot;Not Applicable&quot;</td><td>&quot;1GCHC23U41F108012&quot;</td></tr></tbody></table></div>"
      ],
      "text/plain": [
       "shape: (5, 19)\n",
       "┌──────┬────────────┬────────────┬────────────┬───┬────────────┬───────────┬───────────┬───────────┐\n",
       "│ year ┆ casevehicl ┆ vehiclebod ┆ registrati ┆ … ┆ contributi ┆ contribut ┆ eventtype ┆ partialvi │\n",
       "│ ---  ┆ eid        ┆ ytype      ┆ onclass    ┆   ┆ ngfactor2  ┆ ingfactor ┆ ---       ┆ n         │\n",
       "│ i64  ┆ ---        ┆ ---        ┆ ---        ┆   ┆ ---        ┆ 2descript ┆ str       ┆ ---       │\n",
       "│      ┆ i64        ┆ str        ┆ str        ┆   ┆ str        ┆ ion       ┆           ┆ str       │\n",
       "│      ┆            ┆            ┆            ┆   ┆            ┆ ---       ┆           ┆           │\n",
       "│      ┆            ┆            ┆            ┆   ┆            ┆ str       ┆           ┆           │\n",
       "╞══════╪════════════╪════════════╪════════════╪═══╪════════════╪═══════════╪═══════════╪═══════════╡\n",
       "│ 2019 ┆ 16400907   ┆ 4 DOOR     ┆ PASSENGER  ┆ … ┆ HUMAN      ┆ Not Appli ┆ Not Appli ┆ 1YVHP80C7 │\n",
       "│      ┆            ┆ SEDAN      ┆ OR         ┆   ┆            ┆ cable     ┆ cable     ┆ 85M18961  │\n",
       "│      ┆            ┆            ┆ SUBURBAN   ┆   ┆            ┆           ┆           ┆           │\n",
       "│ 2019 ┆ 16400910   ┆ SUBURBAN   ┆ PASSENGER  ┆ … ┆ HUMAN      ┆ Not Appli ┆ Not Appli ┆ 2C4RC1BGX │\n",
       "│      ┆            ┆            ┆ OR         ┆   ┆            ┆ cable     ┆ cable     ┆ HR832560  │\n",
       "│      ┆            ┆            ┆ SUBURBAN   ┆   ┆            ┆           ┆           ┆           │\n",
       "│ 2019 ┆ 16400912   ┆ SUBURBAN   ┆ PASSENGER  ┆ … ┆ VEHICLE    ┆ Oversized ┆ Other*,   ┆ 1FBNE3BL9 │\n",
       "│      ┆            ┆            ┆ OR         ┆   ┆            ┆ Vehicle   ┆ Non-Colli ┆ CDA77581  │\n",
       "│      ┆            ┆            ┆ SUBURBAN   ┆   ┆            ┆           ┆ sion      ┆           │\n",
       "│ 2019 ┆ 16400911   ┆ 4 DOOR     ┆ PASSENGER  ┆ … ┆ ENVMT      ┆ Pavement  ┆ Not Appli ┆ 1G11D5SL4 │\n",
       "│      ┆            ┆ SEDAN      ┆ OR         ┆   ┆            ┆ Slippery  ┆ cable     ┆ FU120214  │\n",
       "│      ┆            ┆            ┆ SUBURBAN   ┆   ┆            ┆           ┆           ┆           │\n",
       "│ 2019 ┆ 16400915   ┆ PICKUP     ┆ PASSENGER  ┆ … ┆ HUMAN      ┆ Not Appli ┆ Not Appli ┆ 1GCHC23U4 │\n",
       "│      ┆            ┆ TRUCK      ┆ OR         ┆   ┆            ┆ cable     ┆ cable     ┆ 1F108012  │\n",
       "│      ┆            ┆            ┆ SUBURBAN   ┆   ┆            ┆           ┆           ┆           │\n",
       "└──────┴────────────┴────────────┴────────────┴───┴────────────┴───────────┴───────────┴───────────┘"
      ]
     },
     "execution_count": 14,
     "metadata": {},
     "output_type": "execute_result"
    }
   ],
   "source": [
    "# Supprimer les lignes avec des valeurs nulles\n",
    "df_cleaned = df.drop_nulls()\n",
    "\n",
    "# Vérifier les données nettoyées\n",
    "print(\"DataFrame après suppression des valeurs nulles :\")\n",
    "df_cleaned.head()"
   ]
  },
  {
   "cell_type": "markdown",
   "id": "eb911bef",
   "metadata": {},
   "source": [
    "### vérifier si les valeurs manquantes ont été reellement supprimer"
   ]
  },
  {
   "cell_type": "code",
   "execution_count": 15,
   "id": "59b01f8b",
   "metadata": {},
   "outputs": [
    {
     "name": "stdout",
     "output_type": "stream",
     "text": [
      "Nombre de valeurs manquantes par colonne :\n"
     ]
    },
    {
     "data": {
      "text/html": [
       "<div><style>\n",
       ".dataframe > thead > tr,\n",
       ".dataframe > tbody > tr {\n",
       "  text-align: right;\n",
       "  white-space: pre-wrap;\n",
       "}\n",
       "</style>\n",
       "<small>shape: (1, 19)</small><table border=\"1\" class=\"dataframe\"><thead><tr><th>year</th><th>casevehicleid</th><th>vehiclebodytype</th><th>registrationclass</th><th>actionpriortoaccident</th><th>truckbustypeaxles</th><th>directionoftravel</th><th>fueltype</th><th>vehicleyear</th><th>stateofregistration</th><th>numberofoccupants</th><th>enginecylinders</th><th>vehiclemake</th><th>contributingfactor1</th><th>contributingfactor1description</th><th>contributingfactor2</th><th>contributingfactor2description</th><th>eventtype</th><th>partialvin</th></tr><tr><td>u32</td><td>u32</td><td>u32</td><td>u32</td><td>u32</td><td>u32</td><td>u32</td><td>u32</td><td>u32</td><td>u32</td><td>u32</td><td>u32</td><td>u32</td><td>u32</td><td>u32</td><td>u32</td><td>u32</td><td>u32</td><td>u32</td></tr></thead><tbody><tr><td>0</td><td>0</td><td>0</td><td>0</td><td>0</td><td>0</td><td>0</td><td>0</td><td>0</td><td>0</td><td>0</td><td>0</td><td>0</td><td>0</td><td>0</td><td>0</td><td>0</td><td>0</td><td>0</td></tr></tbody></table></div>"
      ],
      "text/plain": [
       "shape: (1, 19)\n",
       "┌──────┬────────────┬────────────┬────────────┬───┬────────────┬───────────┬───────────┬───────────┐\n",
       "│ year ┆ casevehicl ┆ vehiclebod ┆ registrati ┆ … ┆ contributi ┆ contribut ┆ eventtype ┆ partialvi │\n",
       "│ ---  ┆ eid        ┆ ytype      ┆ onclass    ┆   ┆ ngfactor2  ┆ ingfactor ┆ ---       ┆ n         │\n",
       "│ u32  ┆ ---        ┆ ---        ┆ ---        ┆   ┆ ---        ┆ 2descript ┆ u32       ┆ ---       │\n",
       "│      ┆ u32        ┆ u32        ┆ u32        ┆   ┆ u32        ┆ ion       ┆           ┆ u32       │\n",
       "│      ┆            ┆            ┆            ┆   ┆            ┆ ---       ┆           ┆           │\n",
       "│      ┆            ┆            ┆            ┆   ┆            ┆ u32       ┆           ┆           │\n",
       "╞══════╪════════════╪════════════╪════════════╪═══╪════════════╪═══════════╪═══════════╪═══════════╡\n",
       "│ 0    ┆ 0          ┆ 0          ┆ 0          ┆ … ┆ 0          ┆ 0         ┆ 0         ┆ 0         │\n",
       "└──────┴────────────┴────────────┴────────────┴───┴────────────┴───────────┴───────────┴───────────┘"
      ]
     },
     "execution_count": 15,
     "metadata": {},
     "output_type": "execute_result"
    }
   ],
   "source": [
    "# Vérifier la présence de valeurs nulles dans chaque colonne\n",
    "missing_values = df_cleaned.select([pl.col(c).is_null().sum().alias(c) for c in df.columns])\n",
    "print(\"Nombre de valeurs manquantes par colonne :\")\n",
    "missing_values"
   ]
  },
  {
   "cell_type": "code",
   "execution_count": 16,
   "id": "069c12ef",
   "metadata": {},
   "outputs": [
    {
     "data": {
      "text/plain": [
       "(2163960, 19)"
      ]
     },
     "execution_count": 16,
     "metadata": {},
     "output_type": "execute_result"
    }
   ],
   "source": [
    "df_cleaned.shape"
   ]
  },
  {
   "cell_type": "markdown",
   "id": "1264e3ce",
   "metadata": {},
   "source": [
    "## Identification des doublons :"
   ]
  },
  {
   "cell_type": "code",
   "execution_count": 17,
   "id": "85cf49f9",
   "metadata": {},
   "outputs": [
    {
     "name": "stdout",
     "output_type": "stream",
     "text": [
      "Nombre de doublons dans le DataFrame : 0\n"
     ]
    }
   ],
   "source": [
    "# Identifier les doublons dans le DataFrame\n",
    "duplicate_count = df.shape[0] - df.unique().shape[0]\n",
    "print(f\"Nombre de doublons dans le DataFrame : {duplicate_count}\")"
   ]
  },
  {
   "cell_type": "markdown",
   "id": "27468875",
   "metadata": {},
   "source": [
    "## Distribution des types de véhicules : Quantifier les différents types de véhicules impliqués."
   ]
  },
  {
   "cell_type": "code",
   "execution_count": 18,
   "id": "658ac597",
   "metadata": {},
   "outputs": [
    {
     "data": {
      "text/html": [
       "<div><style>\n",
       ".dataframe > thead > tr,\n",
       ".dataframe > tbody > tr {\n",
       "  text-align: right;\n",
       "  white-space: pre-wrap;\n",
       "}\n",
       "</style>\n",
       "<small>shape: (53, 2)</small><table border=\"1\" class=\"dataframe\"><thead><tr><th>vehiclebodytype</th><th>Count</th></tr><tr><td>str</td><td>u32</td></tr></thead><tbody><tr><td>&quot;SUBURBAN&quot;</td><td>975416</td></tr><tr><td>&quot;4 DOOR SEDAN&quot;</td><td>802769</td></tr><tr><td>&quot;PICKUP TRUCK&quot;</td><td>179245</td></tr><tr><td>&quot;2 DOOR SEDAN&quot;</td><td>57276</td></tr><tr><td>&quot;VAN TRUCK&quot;</td><td>42298</td></tr><tr><td>&hellip;</td><td>&hellip;</td></tr><tr><td>&quot;ROAD ROLLER&quot;</td><td>1</td></tr><tr><td>&quot;BICYCLIST&quot;</td><td>1</td></tr><tr><td>&quot;DLR/TRANSPORTER&quot;</td><td>1</td></tr><tr><td>&quot;OFF ROAD VEHICLE&quot;</td><td>1</td></tr><tr><td>&quot;MOBILE CAR CRUSHER&quot;</td><td>1</td></tr></tbody></table></div>"
      ],
      "text/plain": [
       "shape: (53, 2)\n",
       "┌────────────────────┬────────┐\n",
       "│ vehiclebodytype    ┆ Count  │\n",
       "│ ---                ┆ ---    │\n",
       "│ str                ┆ u32    │\n",
       "╞════════════════════╪════════╡\n",
       "│ SUBURBAN           ┆ 975416 │\n",
       "│ 4 DOOR SEDAN       ┆ 802769 │\n",
       "│ PICKUP TRUCK       ┆ 179245 │\n",
       "│ 2 DOOR SEDAN       ┆ 57276  │\n",
       "│ VAN TRUCK          ┆ 42298  │\n",
       "│ …                  ┆ …      │\n",
       "│ ROAD ROLLER        ┆ 1      │\n",
       "│ BICYCLIST          ┆ 1      │\n",
       "│ DLR/TRANSPORTER    ┆ 1      │\n",
       "│ OFF ROAD VEHICLE   ┆ 1      │\n",
       "│ MOBILE CAR CRUSHER ┆ 1      │\n",
       "└────────────────────┴────────┘"
      ]
     },
     "execution_count": 18,
     "metadata": {},
     "output_type": "execute_result"
    }
   ],
   "source": [
    "vehicle_count = (\n",
    "    df_cleaned\n",
    "    .group_by(\"vehiclebodytype\")\n",
    "    .agg(pl.count(\"vehiclebodytype\").alias(\"Count\"))\n",
    "    .sort(\"Count\", descending=True)\n",
    ")\n",
    "vehicle_count"
   ]
  },
  {
   "cell_type": "markdown",
   "id": "873f5b42",
   "metadata": {},
   "source": [
    "## Répartition par année : Identifier les tendances annuelles sur les accidents"
   ]
  },
  {
   "cell_type": "code",
   "execution_count": 19,
   "id": "03f822b7",
   "metadata": {},
   "outputs": [
    {
     "data": {
      "text/html": [
       "<div><style>\n",
       ".dataframe > thead > tr,\n",
       ".dataframe > tbody > tr {\n",
       "  text-align: right;\n",
       "  white-space: pre-wrap;\n",
       "}\n",
       "</style>\n",
       "<small>shape: (5, 2)</small><table border=\"1\" class=\"dataframe\"><thead><tr><th>year</th><th>Year_Count</th></tr><tr><td>i64</td><td>u32</td></tr></thead><tbody><tr><td>2019</td><td>633315</td></tr><tr><td>2020</td><td>430157</td></tr><tr><td>2021</td><td>493932</td></tr><tr><td>2022</td><td>513396</td></tr><tr><td>2023</td><td>93160</td></tr></tbody></table></div>"
      ],
      "text/plain": [
       "shape: (5, 2)\n",
       "┌──────┬────────────┐\n",
       "│ year ┆ Year_Count │\n",
       "│ ---  ┆ ---        │\n",
       "│ i64  ┆ u32        │\n",
       "╞══════╪════════════╡\n",
       "│ 2019 ┆ 633315     │\n",
       "│ 2020 ┆ 430157     │\n",
       "│ 2021 ┆ 493932     │\n",
       "│ 2022 ┆ 513396     │\n",
       "│ 2023 ┆ 93160      │\n",
       "└──────┴────────────┘"
      ]
     },
     "execution_count": 19,
     "metadata": {},
     "output_type": "execute_result"
    }
   ],
   "source": [
    "year_distribution = (\n",
    "    df_cleaned\n",
    "    .group_by(\"year\")\n",
    "    .agg(pl.count(\"year\").alias(\"Year_Count\"))\n",
    "    .sort(\"year\")\n",
    ")\n",
    "year_distribution"
   ]
  },
  {
   "cell_type": "markdown",
   "id": "34982c00",
   "metadata": {},
   "source": [
    "## Nombre d'occupants : Étudier la corrélation entre le nombre d'occupants et les accidents."
   ]
  },
  {
   "cell_type": "code",
   "execution_count": 20,
   "id": "0dddfc0b",
   "metadata": {},
   "outputs": [
    {
     "data": {
      "text/html": [
       "<div><style>\n",
       ".dataframe > thead > tr,\n",
       ".dataframe > tbody > tr {\n",
       "  text-align: right;\n",
       "  white-space: pre-wrap;\n",
       "}\n",
       "</style>\n",
       "<small>shape: (69, 2)</small><table border=\"1\" class=\"dataframe\"><thead><tr><th>numberofoccupants</th><th>count</th></tr><tr><td>i64</td><td>u32</td></tr></thead><tbody><tr><td>1</td><td>1520314</td></tr><tr><td>2</td><td>312253</td></tr><tr><td>0</td><td>200152</td></tr><tr><td>3</td><td>81648</td></tr><tr><td>4</td><td>31695</td></tr><tr><td>&hellip;</td><td>&hellip;</td></tr><tr><td>88</td><td>1</td></tr><tr><td>82</td><td>1</td></tr><tr><td>687</td><td>1</td></tr><tr><td>71</td><td>1</td></tr><tr><td>59</td><td>1</td></tr></tbody></table></div>"
      ],
      "text/plain": [
       "shape: (69, 2)\n",
       "┌───────────────────┬─────────┐\n",
       "│ numberofoccupants ┆ count   │\n",
       "│ ---               ┆ ---     │\n",
       "│ i64               ┆ u32     │\n",
       "╞═══════════════════╪═════════╡\n",
       "│ 1                 ┆ 1520314 │\n",
       "│ 2                 ┆ 312253  │\n",
       "│ 0                 ┆ 200152  │\n",
       "│ 3                 ┆ 81648   │\n",
       "│ 4                 ┆ 31695   │\n",
       "│ …                 ┆ …       │\n",
       "│ 88                ┆ 1       │\n",
       "│ 82                ┆ 1       │\n",
       "│ 687               ┆ 1       │\n",
       "│ 71                ┆ 1       │\n",
       "│ 59                ┆ 1       │\n",
       "└───────────────────┴─────────┘"
      ]
     },
     "execution_count": 20,
     "metadata": {},
     "output_type": "execute_result"
    }
   ],
   "source": [
    "occupants_distribution = df_cleaned.group_by(\"numberofoccupants\").agg(pl.count(\"numberofoccupants\").alias('count')).sort(\"count\", descending=True)\n",
    "occupants_distribution"
   ]
  },
  {
   "cell_type": "markdown",
   "id": "dc799762",
   "metadata": {},
   "source": [
    "## Facteur contributif principal : Identifier les facteurs contribuant le plus souvent aux accidents (ex. : \"Contributing Factor 1\")."
   ]
  },
  {
   "cell_type": "code",
   "execution_count": 21,
   "id": "2a659d1b",
   "metadata": {},
   "outputs": [
    {
     "data": {
      "text/html": [
       "<div><style>\n",
       ".dataframe > thead > tr,\n",
       ".dataframe > tbody > tr {\n",
       "  text-align: right;\n",
       "  white-space: pre-wrap;\n",
       "}\n",
       "</style>\n",
       "<small>shape: (3, 2)</small><table border=\"1\" class=\"dataframe\"><thead><tr><th>contributingfactor1</th><th>Count</th></tr><tr><td>str</td><td>u32</td></tr></thead><tbody><tr><td>&quot;HUMAN&quot;</td><td>2097323</td></tr><tr><td>&quot;ENVMT&quot;</td><td>52015</td></tr><tr><td>&quot;VEHICLE&quot;</td><td>14622</td></tr></tbody></table></div>"
      ],
      "text/plain": [
       "shape: (3, 2)\n",
       "┌─────────────────────┬─────────┐\n",
       "│ contributingfactor1 ┆ Count   │\n",
       "│ ---                 ┆ ---     │\n",
       "│ str                 ┆ u32     │\n",
       "╞═════════════════════╪═════════╡\n",
       "│ HUMAN               ┆ 2097323 │\n",
       "│ ENVMT               ┆ 52015   │\n",
       "│ VEHICLE             ┆ 14622   │\n",
       "└─────────────────────┴─────────┘"
      ]
     },
     "execution_count": 21,
     "metadata": {},
     "output_type": "execute_result"
    }
   ],
   "source": [
    "contributing_factors = (\n",
    "    df_cleaned\n",
    "    .group_by(\"contributingfactor1\")\n",
    "    .agg(pl.count(\"contributingfactor1\").alias(\"Count\"))\n",
    "    .sort(\"Count\", descending=True)\n",
    ")\n",
    "contributing_factors"
   ]
  },
  {
   "cell_type": "markdown",
   "id": "65e5ffd9",
   "metadata": {},
   "source": [
    "## Facteurs multiples : Examiner les interactions entre plusieurs facteurs."
   ]
  },
  {
   "cell_type": "code",
   "execution_count": 22,
   "id": "1fd09c1e",
   "metadata": {},
   "outputs": [
    {
     "data": {
      "text/html": [
       "<div><style>\n",
       ".dataframe > thead > tr,\n",
       ".dataframe > tbody > tr {\n",
       "  text-align: right;\n",
       "  white-space: pre-wrap;\n",
       "}\n",
       "</style>\n",
       "<small>shape: (9, 3)</small><table border=\"1\" class=\"dataframe\"><thead><tr><th>contributingfactor1</th><th>contributingfactor2</th><th>Count</th></tr><tr><td>str</td><td>str</td><td>u32</td></tr></thead><tbody><tr><td>&quot;HUMAN&quot;</td><td>&quot;HUMAN&quot;</td><td>1878562</td></tr><tr><td>&quot;HUMAN&quot;</td><td>&quot;ENVMT&quot;</td><td>189076</td></tr><tr><td>&quot;ENVMT&quot;</td><td>&quot;HUMAN&quot;</td><td>47208</td></tr><tr><td>&quot;HUMAN&quot;</td><td>&quot;VEHICLE&quot;</td><td>29685</td></tr><tr><td>&quot;VEHICLE&quot;</td><td>&quot;HUMAN&quot;</td><td>8984</td></tr><tr><td>&quot;ENVMT&quot;</td><td>&quot;ENVMT&quot;</td><td>4512</td></tr><tr><td>&quot;VEHICLE&quot;</td><td>&quot;VEHICLE&quot;</td><td>3631</td></tr><tr><td>&quot;VEHICLE&quot;</td><td>&quot;ENVMT&quot;</td><td>2007</td></tr><tr><td>&quot;ENVMT&quot;</td><td>&quot;VEHICLE&quot;</td><td>295</td></tr></tbody></table></div>"
      ],
      "text/plain": [
       "shape: (9, 3)\n",
       "┌─────────────────────┬─────────────────────┬─────────┐\n",
       "│ contributingfactor1 ┆ contributingfactor2 ┆ Count   │\n",
       "│ ---                 ┆ ---                 ┆ ---     │\n",
       "│ str                 ┆ str                 ┆ u32     │\n",
       "╞═════════════════════╪═════════════════════╪═════════╡\n",
       "│ HUMAN               ┆ HUMAN               ┆ 1878562 │\n",
       "│ HUMAN               ┆ ENVMT               ┆ 189076  │\n",
       "│ ENVMT               ┆ HUMAN               ┆ 47208   │\n",
       "│ HUMAN               ┆ VEHICLE             ┆ 29685   │\n",
       "│ VEHICLE             ┆ HUMAN               ┆ 8984    │\n",
       "│ ENVMT               ┆ ENVMT               ┆ 4512    │\n",
       "│ VEHICLE             ┆ VEHICLE             ┆ 3631    │\n",
       "│ VEHICLE             ┆ ENVMT               ┆ 2007    │\n",
       "│ ENVMT               ┆ VEHICLE             ┆ 295     │\n",
       "└─────────────────────┴─────────────────────┴─────────┘"
      ]
     },
     "execution_count": 22,
     "metadata": {},
     "output_type": "execute_result"
    }
   ],
   "source": [
    "factor_interactions = (\n",
    "    df_cleaned\n",
    "    .group_by([\"contributingfactor1\", \"contributingfactor2\"])\n",
    "    .agg(pl.count(\"contributingfactor1\").alias(\"Count\"))\n",
    "    .sort(\"Count\", descending=True)\n",
    ")\n",
    "factor_interactions"
   ]
  },
  {
   "cell_type": "markdown",
   "id": "bf1d5da0",
   "metadata": {},
   "source": [
    "## État d'enregistrement : Comparer le nombre d'accidents par État."
   ]
  },
  {
   "cell_type": "code",
   "execution_count": 23,
   "id": "5e465060",
   "metadata": {},
   "outputs": [
    {
     "data": {
      "text/html": [
       "<div><style>\n",
       ".dataframe > thead > tr,\n",
       ".dataframe > tbody > tr {\n",
       "  text-align: right;\n",
       "  white-space: pre-wrap;\n",
       "}\n",
       "</style>\n",
       "<small>shape: (16, 2)</small><table border=\"1\" class=\"dataframe\"><thead><tr><th>stateofregistration</th><th>Count</th></tr><tr><td>str</td><td>u32</td></tr></thead><tbody><tr><td>&quot;NY&quot;</td><td>2163929</td></tr><tr><td>&quot;OK&quot;</td><td>6</td></tr><tr><td>&quot;PA&quot;</td><td>5</td></tr><tr><td>&quot;NJ&quot;</td><td>4</td></tr><tr><td>&quot;NM&quot;</td><td>3</td></tr><tr><td>&hellip;</td><td>&hellip;</td></tr><tr><td>&quot;TX&quot;</td><td>1</td></tr><tr><td>&quot;GL&quot;</td><td>1</td></tr><tr><td>&quot;NH&quot;</td><td>1</td></tr><tr><td>&quot;MI&quot;</td><td>1</td></tr><tr><td>&quot;VT&quot;</td><td>1</td></tr></tbody></table></div>"
      ],
      "text/plain": [
       "shape: (16, 2)\n",
       "┌─────────────────────┬─────────┐\n",
       "│ stateofregistration ┆ Count   │\n",
       "│ ---                 ┆ ---     │\n",
       "│ str                 ┆ u32     │\n",
       "╞═════════════════════╪═════════╡\n",
       "│ NY                  ┆ 2163929 │\n",
       "│ OK                  ┆ 6       │\n",
       "│ PA                  ┆ 5       │\n",
       "│ NJ                  ┆ 4       │\n",
       "│ NM                  ┆ 3       │\n",
       "│ …                   ┆ …       │\n",
       "│ TX                  ┆ 1       │\n",
       "│ GL                  ┆ 1       │\n",
       "│ NH                  ┆ 1       │\n",
       "│ MI                  ┆ 1       │\n",
       "│ VT                  ┆ 1       │\n",
       "└─────────────────────┴─────────┘"
      ]
     },
     "execution_count": 23,
     "metadata": {},
     "output_type": "execute_result"
    }
   ],
   "source": [
    "state_distribution = (\n",
    "    df_cleaned\n",
    "    .group_by(\"stateofregistration\")\n",
    "    .agg(pl.count(\"stateofregistration\").alias(\"Count\"))\n",
    "    .sort(\"Count\", descending=True)\n",
    ")\n",
    "\n",
    "state_distribution"
   ]
  },
  {
   "cell_type": "markdown",
   "id": "206ca0d3",
   "metadata": {},
   "source": [
    "## Direction de déplacement : Étudier si certains trajets sont plus risqués."
   ]
  },
  {
   "cell_type": "code",
   "execution_count": 24,
   "id": "50826eb6",
   "metadata": {},
   "outputs": [
    {
     "data": {
      "text/html": [
       "<div><style>\n",
       ".dataframe > thead > tr,\n",
       ".dataframe > tbody > tr {\n",
       "  text-align: right;\n",
       "  white-space: pre-wrap;\n",
       "}\n",
       "</style>\n",
       "<small>shape: (10, 2)</small><table border=\"1\" class=\"dataframe\"><thead><tr><th>directionoftravel</th><th>Count</th></tr><tr><td>str</td><td>u32</td></tr></thead><tbody><tr><td>&quot;East&quot;</td><td>483670</td></tr><tr><td>&quot;West&quot;</td><td>475499</td></tr><tr><td>&quot;North&quot;</td><td>470411</td></tr><tr><td>&quot;South&quot;</td><td>465968</td></tr><tr><td>&quot;Unknown&quot;</td><td>85477</td></tr><tr><td>&quot;Northeast&quot;</td><td>47618</td></tr><tr><td>&quot;Southwest&quot;</td><td>45329</td></tr><tr><td>&quot;Northwest&quot;</td><td>45083</td></tr><tr><td>&quot;Southeast&quot;</td><td>44621</td></tr><tr><td>&quot;Not Applicable&quot;</td><td>284</td></tr></tbody></table></div>"
      ],
      "text/plain": [
       "shape: (10, 2)\n",
       "┌───────────────────┬────────┐\n",
       "│ directionoftravel ┆ Count  │\n",
       "│ ---               ┆ ---    │\n",
       "│ str               ┆ u32    │\n",
       "╞═══════════════════╪════════╡\n",
       "│ East              ┆ 483670 │\n",
       "│ West              ┆ 475499 │\n",
       "│ North             ┆ 470411 │\n",
       "│ South             ┆ 465968 │\n",
       "│ Unknown           ┆ 85477  │\n",
       "│ Northeast         ┆ 47618  │\n",
       "│ Southwest         ┆ 45329  │\n",
       "│ Northwest         ┆ 45083  │\n",
       "│ Southeast         ┆ 44621  │\n",
       "│ Not Applicable    ┆ 284    │\n",
       "└───────────────────┴────────┘"
      ]
     },
     "execution_count": 24,
     "metadata": {},
     "output_type": "execute_result"
    }
   ],
   "source": [
    "direction_travel = (\n",
    "    df_cleaned\n",
    "    .group_by(\"directionoftravel\")\n",
    "    .agg(pl.count(\"directionoftravel\").alias(\"Count\"))\n",
    "    .sort(\"Count\", descending=True)\n",
    ")\n",
    "direction_travel"
   ]
  },
  {
   "cell_type": "markdown",
   "id": "1d3fbb82",
   "metadata": {},
   "source": [
    "## Âge des véhicules : Étudier la corrélation entre l'année des véhicules et les accidents."
   ]
  },
  {
   "cell_type": "code",
   "execution_count": 25,
   "id": "ea47eeff",
   "metadata": {},
   "outputs": [
    {
     "data": {
      "text/html": [
       "<div><style>\n",
       ".dataframe > thead > tr,\n",
       ".dataframe > tbody > tr {\n",
       "  text-align: right;\n",
       "  white-space: pre-wrap;\n",
       "}\n",
       "</style>\n",
       "<small>shape: (99, 2)</small><table border=\"1\" class=\"dataframe\"><thead><tr><th>vehicleyear</th><th>Count</th></tr><tr><td>i64</td><td>u32</td></tr></thead><tbody><tr><td>2018</td><td>183457</td></tr><tr><td>2017</td><td>181162</td></tr><tr><td>2019</td><td>169914</td></tr><tr><td>2016</td><td>157709</td></tr><tr><td>2015</td><td>150865</td></tr><tr><td>&hellip;</td><td>&hellip;</td></tr><tr><td>1935</td><td>2</td></tr><tr><td>1938</td><td>2</td></tr><tr><td>1947</td><td>2</td></tr><tr><td>1917</td><td>1</td></tr><tr><td>1926</td><td>1</td></tr></tbody></table></div>"
      ],
      "text/plain": [
       "shape: (99, 2)\n",
       "┌─────────────┬────────┐\n",
       "│ vehicleyear ┆ Count  │\n",
       "│ ---         ┆ ---    │\n",
       "│ i64         ┆ u32    │\n",
       "╞═════════════╪════════╡\n",
       "│ 2018        ┆ 183457 │\n",
       "│ 2017        ┆ 181162 │\n",
       "│ 2019        ┆ 169914 │\n",
       "│ 2016        ┆ 157709 │\n",
       "│ 2015        ┆ 150865 │\n",
       "│ …           ┆ …      │\n",
       "│ 1935        ┆ 2      │\n",
       "│ 1938        ┆ 2      │\n",
       "│ 1947        ┆ 2      │\n",
       "│ 1917        ┆ 1      │\n",
       "│ 1926        ┆ 1      │\n",
       "└─────────────┴────────┘"
      ]
     },
     "execution_count": 25,
     "metadata": {},
     "output_type": "execute_result"
    }
   ],
   "source": [
    "df_clean = df_cleaned.with_columns(\n",
    "    (2025 - pl.col(\"vehicleyear\")).alias(\"Vehicle Age\")\n",
    ")\n",
    "\n",
    "vehicle_age = (\n",
    "    df_clean\n",
    "    .group_by(\"vehicleyear\")\n",
    "    .agg(pl.count(\"Vehicle Age\").alias(\"Count\"))\n",
    "    .sort(\"Count\", descending=True)\n",
    ")\n",
    "\n",
    "vehicle_age"
   ]
  },
  {
   "cell_type": "markdown",
   "id": "c0ff55f0",
   "metadata": {},
   "source": [
    "## Carburant utilisé : Examiner si certains types de carburants sont liés à des accidents."
   ]
  },
  {
   "cell_type": "code",
   "execution_count": 26,
   "id": "329765ba",
   "metadata": {},
   "outputs": [
    {
     "data": {
      "text/html": [
       "<div><style>\n",
       ".dataframe > thead > tr,\n",
       ".dataframe > tbody > tr {\n",
       "  text-align: right;\n",
       "  white-space: pre-wrap;\n",
       "}\n",
       "</style>\n",
       "<small>shape: (8, 2)</small><table border=\"1\" class=\"dataframe\"><thead><tr><th>fueltype</th><th>Count</th></tr><tr><td>str</td><td>u32</td></tr></thead><tbody><tr><td>&quot;Gas&quot;</td><td>2065076</td></tr><tr><td>&quot;Diesel&quot;</td><td>85105</td></tr><tr><td>&quot;Electric&quot;</td><td>8123</td></tr><tr><td>&quot;Compressed Natural Gas&quot;</td><td>1860</td></tr><tr><td>&quot;None&quot;</td><td>1826</td></tr><tr><td>&quot;Flex&quot;</td><td>1679</td></tr><tr><td>&quot;Propane&quot;</td><td>147</td></tr><tr><td>&quot;Other&quot;</td><td>144</td></tr></tbody></table></div>"
      ],
      "text/plain": [
       "shape: (8, 2)\n",
       "┌────────────────────────┬─────────┐\n",
       "│ fueltype               ┆ Count   │\n",
       "│ ---                    ┆ ---     │\n",
       "│ str                    ┆ u32     │\n",
       "╞════════════════════════╪═════════╡\n",
       "│ Gas                    ┆ 2065076 │\n",
       "│ Diesel                 ┆ 85105   │\n",
       "│ Electric               ┆ 8123    │\n",
       "│ Compressed Natural Gas ┆ 1860    │\n",
       "│ None                   ┆ 1826    │\n",
       "│ Flex                   ┆ 1679    │\n",
       "│ Propane                ┆ 147     │\n",
       "│ Other                  ┆ 144     │\n",
       "└────────────────────────┴─────────┘"
      ]
     },
     "execution_count": 26,
     "metadata": {},
     "output_type": "execute_result"
    }
   ],
   "source": [
    "fuel_analysis = (\n",
    "    df_cleaned\n",
    "    .group_by(\"fueltype\")\n",
    "    .agg(pl.count(\"fueltype\").alias(\"Count\"))\n",
    "    .sort(\"Count\", descending=True)\n",
    ")\n",
    "fuel_analysis"
   ]
  },
  {
   "cell_type": "markdown",
   "id": "a15e4347",
   "metadata": {},
   "source": [
    "## Cylindres du moteur : Vérifier si les caractéristiques du moteur influencent les collisions."
   ]
  },
  {
   "cell_type": "code",
   "execution_count": 27,
   "id": "d0200aff",
   "metadata": {},
   "outputs": [
    {
     "data": {
      "text/html": [
       "<div><style>\n",
       ".dataframe > thead > tr,\n",
       ".dataframe > tbody > tr {\n",
       "  text-align: right;\n",
       "  white-space: pre-wrap;\n",
       "}\n",
       "</style>\n",
       "<small>shape: (15, 2)</small><table border=\"1\" class=\"dataframe\"><thead><tr><th>enginecylinders</th><th>Count</th></tr><tr><td>i64</td><td>u32</td></tr></thead><tbody><tr><td>4</td><td>1136875</td></tr><tr><td>6</td><td>732068</td></tr><tr><td>8</td><td>248036</td></tr><tr><td>5</td><td>14550</td></tr><tr><td>0</td><td>8666</td></tr><tr><td>&hellip;</td><td>&hellip;</td></tr><tr><td>7</td><td>7</td></tr><tr><td>9</td><td>4</td></tr><tr><td>11</td><td>2</td></tr><tr><td>14</td><td>2</td></tr><tr><td>16</td><td>1</td></tr></tbody></table></div>"
      ],
      "text/plain": [
       "shape: (15, 2)\n",
       "┌─────────────────┬─────────┐\n",
       "│ enginecylinders ┆ Count   │\n",
       "│ ---             ┆ ---     │\n",
       "│ i64             ┆ u32     │\n",
       "╞═════════════════╪═════════╡\n",
       "│ 4               ┆ 1136875 │\n",
       "│ 6               ┆ 732068  │\n",
       "│ 8               ┆ 248036  │\n",
       "│ 5               ┆ 14550   │\n",
       "│ 0               ┆ 8666    │\n",
       "│ …               ┆ …       │\n",
       "│ 7               ┆ 7       │\n",
       "│ 9               ┆ 4       │\n",
       "│ 11              ┆ 2       │\n",
       "│ 14              ┆ 2       │\n",
       "│ 16              ┆ 1       │\n",
       "└─────────────────┴─────────┘"
      ]
     },
     "execution_count": 27,
     "metadata": {},
     "output_type": "execute_result"
    }
   ],
   "source": [
    "engine_analysis = (\n",
    "    df_cleaned\n",
    "    .group_by(\"enginecylinders\")\n",
    "    .agg(pl.count(\"enginecylinders\").alias(\"Count\"))\n",
    "    .sort(\"Count\", descending=True)\n",
    ")\n",
    "engine_analysis"
   ]
  },
  {
   "cell_type": "markdown",
   "id": "bab2d2e6",
   "metadata": {},
   "source": [
    "## Actions avant l'accident : Étudier les comportements des conducteurs avant l'incident."
   ]
  },
  {
   "cell_type": "code",
   "execution_count": 28,
   "id": "0a21ee9d",
   "metadata": {},
   "outputs": [
    {
     "data": {
      "text/html": [
       "<div><style>\n",
       ".dataframe > thead > tr,\n",
       ".dataframe > tbody > tr {\n",
       "  text-align: right;\n",
       "  white-space: pre-wrap;\n",
       "}\n",
       "</style>\n",
       "<small>shape: (21, 2)</small><table border=\"1\" class=\"dataframe\"><thead><tr><th>actionpriortoaccident</th><th>Count</th></tr><tr><td>str</td><td>u32</td></tr></thead><tbody><tr><td>&quot;Going Straight Ahead&quot;</td><td>1090181</td></tr><tr><td>&quot;Parked&quot;</td><td>224105</td></tr><tr><td>&quot;Making Left Turn&quot;</td><td>169871</td></tr><tr><td>&quot;Stopped in Traffic&quot;</td><td>168059</td></tr><tr><td>&quot;Slowing or Stopping&quot;</td><td>137535</td></tr><tr><td>&hellip;</td><td>&hellip;</td></tr><tr><td>&quot;Avoiding Object in Roadway&quot;</td><td>5276</td></tr><tr><td>&quot;Not Applicable&quot;</td><td>957</td></tr><tr><td>&quot;Making Right Turn on Red&quot;</td><td>650</td></tr><tr><td>&quot;Police Pursuit&quot;</td><td>461</td></tr><tr><td>&quot;Making Left Turn on Red&quot;</td><td>267</td></tr></tbody></table></div>"
      ],
      "text/plain": [
       "shape: (21, 2)\n",
       "┌────────────────────────────┬─────────┐\n",
       "│ actionpriortoaccident      ┆ Count   │\n",
       "│ ---                        ┆ ---     │\n",
       "│ str                        ┆ u32     │\n",
       "╞════════════════════════════╪═════════╡\n",
       "│ Going Straight Ahead       ┆ 1090181 │\n",
       "│ Parked                     ┆ 224105  │\n",
       "│ Making Left Turn           ┆ 169871  │\n",
       "│ Stopped in Traffic         ┆ 168059  │\n",
       "│ Slowing or Stopping        ┆ 137535  │\n",
       "│ …                          ┆ …       │\n",
       "│ Avoiding Object in Roadway ┆ 5276    │\n",
       "│ Not Applicable             ┆ 957     │\n",
       "│ Making Right Turn on Red   ┆ 650     │\n",
       "│ Police Pursuit             ┆ 461     │\n",
       "│ Making Left Turn on Red    ┆ 267     │\n",
       "└────────────────────────────┴─────────┘"
      ]
     },
     "execution_count": 28,
     "metadata": {},
     "output_type": "execute_result"
    }
   ],
   "source": [
    "action_analysis = (\n",
    "    df_cleaned\n",
    "    .group_by(\"actionpriortoaccident\")\n",
    "    .agg(pl.count(\"actionpriortoaccident\").alias(\"Count\"))\n",
    "    .sort(\"Count\", descending=True)\n",
    ")\n",
    "action_analysis"
   ]
  },
  {
   "cell_type": "markdown",
   "id": "832bc229",
   "metadata": {},
   "source": [
    "## Type d'événement : Identifier les événements les plus fréquents (collision, dérapage, etc.)."
   ]
  },
  {
   "cell_type": "code",
   "execution_count": 29,
   "id": "a9c0250e",
   "metadata": {},
   "outputs": [
    {
     "data": {
      "text/html": [
       "<div><style>\n",
       ".dataframe > thead > tr,\n",
       ".dataframe > tbody > tr {\n",
       "  text-align: right;\n",
       "  white-space: pre-wrap;\n",
       "}\n",
       "</style>\n",
       "<small>shape: (34, 2)</small><table border=\"1\" class=\"dataframe\"><thead><tr><th>eventtype</th><th>Count</th></tr><tr><td>str</td><td>u32</td></tr></thead><tbody><tr><td>&quot;Not Applicable&quot;</td><td>1314650</td></tr><tr><td>&quot;Not Entered&quot;</td><td>695847</td></tr><tr><td>&quot;Other Motor Vehicle, Collision…</td><td>83055</td></tr><tr><td>&quot;Tree, Collision With Fixed Obj…</td><td>9361</td></tr><tr><td>&quot;Earth Embankment/Rock Cut/Ditc…</td><td>8840</td></tr><tr><td>&hellip;</td><td>&hellip;</td></tr><tr><td>&quot;Crash Cushion, Collision With …</td><td>165</td></tr><tr><td>&quot;Submersion, Non-Collision&quot;</td><td>163</td></tr><tr><td>&quot;Median - End, Collision With F…</td><td>103</td></tr><tr><td>&quot;Ran Off Roadway Only, Non-Coll…</td><td>44</td></tr><tr><td>&quot;Railroad Train, Collision With&quot;</td><td>19</td></tr></tbody></table></div>"
      ],
      "text/plain": [
       "shape: (34, 2)\n",
       "┌─────────────────────────────────┬─────────┐\n",
       "│ eventtype                       ┆ Count   │\n",
       "│ ---                             ┆ ---     │\n",
       "│ str                             ┆ u32     │\n",
       "╞═════════════════════════════════╪═════════╡\n",
       "│ Not Applicable                  ┆ 1314650 │\n",
       "│ Not Entered                     ┆ 695847  │\n",
       "│ Other Motor Vehicle, Collision… ┆ 83055   │\n",
       "│ Tree, Collision With Fixed Obj… ┆ 9361    │\n",
       "│ Earth Embankment/Rock Cut/Ditc… ┆ 8840    │\n",
       "│ …                               ┆ …       │\n",
       "│ Crash Cushion, Collision With … ┆ 165     │\n",
       "│ Submersion, Non-Collision       ┆ 163     │\n",
       "│ Median - End, Collision With F… ┆ 103     │\n",
       "│ Ran Off Roadway Only, Non-Coll… ┆ 44      │\n",
       "│ Railroad Train, Collision With  ┆ 19      │\n",
       "└─────────────────────────────────┴─────────┘"
      ]
     },
     "execution_count": 29,
     "metadata": {},
     "output_type": "execute_result"
    }
   ],
   "source": [
    "event_type_analysis = (\n",
    "    df_cleaned\n",
    "    .group_by(\"eventtype\")\n",
    "    .agg(pl.count(\"eventtype\").alias(\"Count\"))\n",
    "    .sort(\"Count\", descending=True)\n",
    ")\n",
    "event_type_analysis"
   ]
  },
  {
   "cell_type": "markdown",
   "id": "f98301a6",
   "metadata": {},
   "source": [
    "### Stockage de notre jeu de données après analyse dans un bucket minio"
   ]
  },
  {
   "cell_type": "code",
   "execution_count": 45,
   "id": "fab65c83",
   "metadata": {},
   "outputs": [],
   "source": [
    "from minio import Minio # type: ignore\n",
    "import pandas as pd # type: ignore\n"
   ]
  },
  {
   "cell_type": "code",
   "execution_count": 46,
   "id": "b7676f0a",
   "metadata": {},
   "outputs": [],
   "source": [
    "# Initialisation de MinIO\n",
    "MINIO_ACCESS_KEY = \"miniouser\"\n",
    "MINIO_SECRET_KEY = \"miniopassword\"\n",
    "MINIO_ENDPOINT_URL = \"http://localhost:9000\"\n",
    "BUCKET_NAME = \"motor-vehicle-data-bucket\""
   ]
  },
  {
   "cell_type": "code",
   "execution_count": 47,
   "id": "a7b064dc",
   "metadata": {},
   "outputs": [],
   "source": [
    "storage_options={\n",
    "   'key': MINIO_ACCESS_KEY,\n",
    "   'secret': MINIO_SECRET_KEY,\n",
    "   'endpoint_url': MINIO_ENDPOINT_URL,\n",
    "}"
   ]
  },
  {
   "cell_type": "markdown",
   "id": "481f4502",
   "metadata": {},
   "source": [
    "#### Initialisons le client minio"
   ]
  },
  {
   "cell_type": "code",
   "execution_count": 48,
   "id": "7454208b",
   "metadata": {},
   "outputs": [],
   "source": [
    "client = Minio(\n",
    "    \"localhost:9000\",\n",
    "    access_key=MINIO_ACCESS_KEY,\n",
    "    secret_key=MINIO_SECRET_KEY,\n",
    "    secure=False  # Mettez True si vous utilisez HTTPS\n",
    ")"
   ]
  },
  {
   "cell_type": "markdown",
   "id": "e56d80a2",
   "metadata": {},
   "source": [
    "#### Créer un bucket"
   ]
  },
  {
   "cell_type": "code",
   "execution_count": 49,
   "id": "d5a250ec",
   "metadata": {},
   "outputs": [],
   "source": [
    "bucket_name = \"motor-vehicle-data-bucket\"\n",
    "if not client.bucket_exists(bucket_name):\n",
    "    client.make_bucket(bucket_name)\n"
   ]
  },
  {
   "cell_type": "markdown",
   "id": "966491aa",
   "metadata": {},
   "source": [
    "#### Liste des buckets"
   ]
  },
  {
   "cell_type": "code",
   "execution_count": 50,
   "id": "6c89076f",
   "metadata": {},
   "outputs": [
    {
     "data": {
      "text/plain": [
       "[Bucket('moto-vehicles-bucket'),\n",
       " Bucket('motor-vehicle-data-bucket'),\n",
       " Bucket('motor-vehicles-bucket')]"
      ]
     },
     "execution_count": 50,
     "metadata": {},
     "output_type": "execute_result"
    }
   ],
   "source": [
    "client.list_buckets()"
   ]
  },
  {
   "cell_type": "markdown",
   "id": "e106be8f",
   "metadata": {},
   "source": [
    "#### écrire le dataframe dans minio dans le bucket que je vien de créer"
   ]
  },
  {
   "cell_type": "code",
   "execution_count": 58,
   "id": "4c75f549",
   "metadata": {},
   "outputs": [],
   "source": [
    "# Étape 1 : Sauvegarder localement en format Parquet\n",
    "local_file = \"df_cleaned_minio.parquet\"\n",
    "df_cleaned.write_parquet(local_file, compression=\"snappy\")\n"
   ]
  },
  {
   "cell_type": "code",
   "execution_count": 59,
   "id": "3cc26a99",
   "metadata": {},
   "outputs": [],
   "source": [
    "# Étape 2 : Vérifier si le bucket existe et le créer si nécessaire\n",
    "if not client.bucket_exists(BUCKET_NAME):\n",
    "    client.make_bucket(BUCKET_NAME)"
   ]
  },
  {
   "cell_type": "code",
   "execution_count": 62,
   "id": "6a5e8900",
   "metadata": {},
   "outputs": [
    {
     "name": "stdout",
     "output_type": "stream",
     "text": [
      "Le fichier a été sauvegardé sur le bucket 'motor-vehicle-data-bucket' sous 'raw-data/df_cleaned_minio.parquet'.\n"
     ]
    }
   ],
   "source": [
    "# Étape 3 : Upload du fichier dans le bucket\n",
    "object_name = \"raw-data/df_cleaned_minio.parquet\"  # Chemin de stockage dans le bucket\n",
    "with open(local_file, \"rb\") as f:\n",
    "    client.put_object(\n",
    "        BUCKET_NAME,\n",
    "        object_name,\n",
    "        data=f,\n",
    "        length=-1,\n",
    "        part_size=10 * 1024 * 1024,  # Taille de chaque partie : 10MB\n",
    "    )\n",
    "\n",
    "print(f\"Le fichier a été sauvegardé sur le bucket '{BUCKET_NAME}' sous '{object_name}'.\")\n"
   ]
  },
  {
   "cell_type": "code",
   "execution_count": 69,
   "id": "1bd71919",
   "metadata": {},
   "outputs": [],
   "source": [
    "OBJECT_NAME = \"raw-data/df_cleaned_minio.parquet\""
   ]
  },
  {
   "cell_type": "code",
   "execution_count": 70,
   "id": "99e48ea3",
   "metadata": {},
   "outputs": [
    {
     "data": {
      "text/plain": [
       "<minio.datatypes.Object at 0x207376e5ca0>"
      ]
     },
     "execution_count": 70,
     "metadata": {},
     "output_type": "execute_result"
    }
   ],
   "source": [
    "# Étape 1 : Téléchargement du fichier Parquet localement\n",
    "local_file = \"df_cleaned_downloaded.parquet\"\n",
    "client.fget_object(BUCKET_NAME, OBJECT_NAME, local_file)"
   ]
  },
  {
   "cell_type": "code",
   "execution_count": 68,
   "id": "1c287a1e",
   "metadata": {},
   "outputs": [
    {
     "data": {
      "text/html": [
       "<div><style>\n",
       ".dataframe > thead > tr,\n",
       ".dataframe > tbody > tr {\n",
       "  text-align: right;\n",
       "  white-space: pre-wrap;\n",
       "}\n",
       "</style>\n",
       "<small>shape: (5, 19)</small><table border=\"1\" class=\"dataframe\"><thead><tr><th>year</th><th>casevehicleid</th><th>vehiclebodytype</th><th>registrationclass</th><th>actionpriortoaccident</th><th>truckbustypeaxles</th><th>directionoftravel</th><th>fueltype</th><th>vehicleyear</th><th>stateofregistration</th><th>numberofoccupants</th><th>enginecylinders</th><th>vehiclemake</th><th>contributingfactor1</th><th>contributingfactor1description</th><th>contributingfactor2</th><th>contributingfactor2description</th><th>eventtype</th><th>partialvin</th></tr><tr><td>i64</td><td>i64</td><td>str</td><td>str</td><td>str</td><td>str</td><td>str</td><td>str</td><td>i64</td><td>str</td><td>i64</td><td>i64</td><td>str</td><td>str</td><td>str</td><td>str</td><td>str</td><td>str</td><td>str</td></tr></thead><tbody><tr><td>2019</td><td>16400907</td><td>&quot;4 DOOR SEDAN&quot;</td><td>&quot;PASSENGER OR SUBURBAN&quot;</td><td>&quot;Backing&quot;</td><td>&quot;Not Entered&quot;</td><td>&quot;South&quot;</td><td>&quot;Gas&quot;</td><td>2008</td><td>&quot;NY&quot;</td><td>1</td><td>4</td><td>&quot;MAZDA&quot;</td><td>&quot;HUMAN&quot;</td><td>&quot;Backing Unsafely&quot;</td><td>&quot;HUMAN&quot;</td><td>&quot;Not Applicable&quot;</td><td>&quot;Not Applicable&quot;</td><td>&quot;1YVHP80C785M18961&quot;</td></tr><tr><td>2019</td><td>16400910</td><td>&quot;SUBURBAN&quot;</td><td>&quot;PASSENGER OR SUBURBAN&quot;</td><td>&quot;Making Left Turn&quot;</td><td>&quot;Not Entered&quot;</td><td>&quot;North&quot;</td><td>&quot;Gas&quot;</td><td>2017</td><td>&quot;NY&quot;</td><td>1</td><td>6</td><td>&quot;CHRYS&quot;</td><td>&quot;HUMAN&quot;</td><td>&quot;Not Applicable&quot;</td><td>&quot;HUMAN&quot;</td><td>&quot;Not Applicable&quot;</td><td>&quot;Not Applicable&quot;</td><td>&quot;2C4RC1BGXHR832560&quot;</td></tr><tr><td>2019</td><td>16400912</td><td>&quot;SUBURBAN&quot;</td><td>&quot;PASSENGER OR SUBURBAN&quot;</td><td>&quot;Going Straight Ahead&quot;</td><td>&quot;Not Entered&quot;</td><td>&quot;East&quot;</td><td>&quot;Gas&quot;</td><td>2012</td><td>&quot;NY&quot;</td><td>2</td><td>8</td><td>&quot;FORD&quot;</td><td>&quot;ENVMT&quot;</td><td>&quot;Pavement Slippery&quot;</td><td>&quot;VEHICLE&quot;</td><td>&quot;Oversized Vehicle&quot;</td><td>&quot;Other*, Non-Collision&quot;</td><td>&quot;1FBNE3BL9CDA77581&quot;</td></tr><tr><td>2019</td><td>16400911</td><td>&quot;4 DOOR SEDAN&quot;</td><td>&quot;PASSENGER OR SUBURBAN&quot;</td><td>&quot;Going Straight Ahead&quot;</td><td>&quot;Not Entered&quot;</td><td>&quot;West&quot;</td><td>&quot;Gas&quot;</td><td>2015</td><td>&quot;NY&quot;</td><td>2</td><td>4</td><td>&quot;CHEVR&quot;</td><td>&quot;HUMAN&quot;</td><td>&quot;Unsafe Speed&quot;</td><td>&quot;ENVMT&quot;</td><td>&quot;Pavement Slippery&quot;</td><td>&quot;Not Applicable&quot;</td><td>&quot;1G11D5SL4FU120214&quot;</td></tr><tr><td>2019</td><td>16400915</td><td>&quot;PICKUP TRUCK&quot;</td><td>&quot;PASSENGER OR SUBURBAN&quot;</td><td>&quot;Stopped in Traffic&quot;</td><td>&quot;Not Entered&quot;</td><td>&quot;East&quot;</td><td>&quot;Gas&quot;</td><td>2001</td><td>&quot;NY&quot;</td><td>1</td><td>8</td><td>&quot;CHEVR&quot;</td><td>&quot;HUMAN&quot;</td><td>&quot;Not Applicable&quot;</td><td>&quot;HUMAN&quot;</td><td>&quot;Not Applicable&quot;</td><td>&quot;Not Applicable&quot;</td><td>&quot;1GCHC23U41F108012&quot;</td></tr></tbody></table></div>"
      ],
      "text/plain": [
       "shape: (5, 19)\n",
       "┌──────┬────────────┬────────────┬────────────┬───┬────────────┬───────────┬───────────┬───────────┐\n",
       "│ year ┆ casevehicl ┆ vehiclebod ┆ registrati ┆ … ┆ contributi ┆ contribut ┆ eventtype ┆ partialvi │\n",
       "│ ---  ┆ eid        ┆ ytype      ┆ onclass    ┆   ┆ ngfactor2  ┆ ingfactor ┆ ---       ┆ n         │\n",
       "│ i64  ┆ ---        ┆ ---        ┆ ---        ┆   ┆ ---        ┆ 2descript ┆ str       ┆ ---       │\n",
       "│      ┆ i64        ┆ str        ┆ str        ┆   ┆ str        ┆ ion       ┆           ┆ str       │\n",
       "│      ┆            ┆            ┆            ┆   ┆            ┆ ---       ┆           ┆           │\n",
       "│      ┆            ┆            ┆            ┆   ┆            ┆ str       ┆           ┆           │\n",
       "╞══════╪════════════╪════════════╪════════════╪═══╪════════════╪═══════════╪═══════════╪═══════════╡\n",
       "│ 2019 ┆ 16400907   ┆ 4 DOOR     ┆ PASSENGER  ┆ … ┆ HUMAN      ┆ Not Appli ┆ Not Appli ┆ 1YVHP80C7 │\n",
       "│      ┆            ┆ SEDAN      ┆ OR         ┆   ┆            ┆ cable     ┆ cable     ┆ 85M18961  │\n",
       "│      ┆            ┆            ┆ SUBURBAN   ┆   ┆            ┆           ┆           ┆           │\n",
       "│ 2019 ┆ 16400910   ┆ SUBURBAN   ┆ PASSENGER  ┆ … ┆ HUMAN      ┆ Not Appli ┆ Not Appli ┆ 2C4RC1BGX │\n",
       "│      ┆            ┆            ┆ OR         ┆   ┆            ┆ cable     ┆ cable     ┆ HR832560  │\n",
       "│      ┆            ┆            ┆ SUBURBAN   ┆   ┆            ┆           ┆           ┆           │\n",
       "│ 2019 ┆ 16400912   ┆ SUBURBAN   ┆ PASSENGER  ┆ … ┆ VEHICLE    ┆ Oversized ┆ Other*,   ┆ 1FBNE3BL9 │\n",
       "│      ┆            ┆            ┆ OR         ┆   ┆            ┆ Vehicle   ┆ Non-Colli ┆ CDA77581  │\n",
       "│      ┆            ┆            ┆ SUBURBAN   ┆   ┆            ┆           ┆ sion      ┆           │\n",
       "│ 2019 ┆ 16400911   ┆ 4 DOOR     ┆ PASSENGER  ┆ … ┆ ENVMT      ┆ Pavement  ┆ Not Appli ┆ 1G11D5SL4 │\n",
       "│      ┆            ┆ SEDAN      ┆ OR         ┆   ┆            ┆ Slippery  ┆ cable     ┆ FU120214  │\n",
       "│      ┆            ┆            ┆ SUBURBAN   ┆   ┆            ┆           ┆           ┆           │\n",
       "│ 2019 ┆ 16400915   ┆ PICKUP     ┆ PASSENGER  ┆ … ┆ HUMAN      ┆ Not Appli ┆ Not Appli ┆ 1GCHC23U4 │\n",
       "│      ┆            ┆ TRUCK      ┆ OR         ┆   ┆            ┆ cable     ┆ cable     ┆ 1F108012  │\n",
       "│      ┆            ┆            ┆ SUBURBAN   ┆   ┆            ┆           ┆           ┆           │\n",
       "└──────┴────────────┴────────────┴────────────┴───┴────────────┴───────────┴───────────┴───────────┘"
      ]
     },
     "execution_count": 68,
     "metadata": {},
     "output_type": "execute_result"
    }
   ],
   "source": [
    "# Étape 2 : Lecture du fichier Parquet avec Polars\n",
    "df_loaded = pl.read_parquet(local_file)\n",
    "\n",
    "df_loaded.head()"
   ]
  }
 ],
 "metadata": {
  "kernelspec": {
   "display_name": "venv",
   "language": "python",
   "name": "python3"
  },
  "language_info": {
   "codemirror_mode": {
    "name": "ipython",
    "version": 3
   },
   "file_extension": ".py",
   "mimetype": "text/x-python",
   "name": "python",
   "nbconvert_exporter": "python",
   "pygments_lexer": "ipython3",
   "version": "3.12.9"
  }
 },
 "nbformat": 4,
 "nbformat_minor": 5
}
